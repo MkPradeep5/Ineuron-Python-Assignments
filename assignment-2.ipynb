{
 "cells": [
  {
   "cell_type": "markdown",
   "id": "1399f3e2",
   "metadata": {},
   "source": [
    "### Assignment - 2"
   ]
  },
  {
   "cell_type": "markdown",
   "id": "62dffeac",
   "metadata": {},
   "source": [
    "1. What are the two values of the Boolean data type? How do you write them?"
   ]
  },
  {
   "cell_type": "code",
   "execution_count": null,
   "id": "91cab0ad",
   "metadata": {},
   "outputs": [],
   "source": [
    "The two values of the Boolean data type are True, False."
   ]
  },
  {
   "cell_type": "markdown",
   "id": "0475ba71",
   "metadata": {},
   "source": [
    "2. What are the three different types of Boolean operators?"
   ]
  },
  {
   "cell_type": "code",
   "execution_count": null,
   "id": "3e103079",
   "metadata": {},
   "outputs": [],
   "source": [
    "and - The and operator returns True if both operands are true; otherwise, it returns False.\n",
    "or - The or operator returns True if at least one of the operands is true; it returns False only if both operands are false.\n",
    "not - The not operator is a unary operator that returns the opposite Boolean value of the operand. \n",
    "        If the operand is True, not returns False, and vice versa."
   ]
  },
  {
   "cell_type": "markdown",
   "id": "ba9624fd",
   "metadata": {},
   "source": [
    "3. Make a list of each Boolean operator's truth tables. (i.e. every possible combination of Boolean values for the operator and what it evaluate )."
   ]
  },
  {
   "cell_type": "code",
   "execution_count": null,
   "id": "7343e865",
   "metadata": {},
   "outputs": [],
   "source": [
    "  A      B     A and B  A or B  not A\n",
    "--------------------------------------\n",
    "True    True    True     True    False\n",
    "True    False   False    False   False\n",
    "False   True    False    False   True\n",
    "False   False   False    True    True\n",
    "---------------------------------------\n"
   ]
  },
  {
   "cell_type": "markdown",
   "id": "d3785674",
   "metadata": {},
   "source": [
    "4. What are the values of the following expressions?\n",
    "(5 > 4) and (3 == 5)\n",
    "not (5 > 4)\n",
    "(5 > 4) or (3 == 5)\n",
    "not ((5 > 4) or (3 == 5))\n",
    "(True and True) and (True == False)\n",
    "(not False) or (not True)"
   ]
  },
  {
   "cell_type": "code",
   "execution_count": null,
   "id": "e491731f",
   "metadata": {},
   "outputs": [],
   "source": [
    "(5 > 4) and (3 == 5) ----> False\n",
    "not (5 > 4)  ----> False\n",
    "(5 > 4) or (3 == 5) ----> True\n",
    "not ((5 > 4) or (3 == 5)) ----> False\n",
    "(True and True) and (True == False) ----> False\n",
    "(not False) or (not True) ----> True"
   ]
  },
  {
   "cell_type": "markdown",
   "id": "8ae8d91b",
   "metadata": {},
   "source": [
    "5. What are the six comparison operators?"
   ]
  },
  {
   "cell_type": "code",
   "execution_count": null,
   "id": "b8061b97",
   "metadata": {},
   "outputs": [],
   "source": [
    "1. > (greater than)\n",
    "2. < (less Than)\n",
    "3. == (equal to)\n",
    "4. >= (greaterthan or equal to)\n",
    "5. <= (less than or equal to)\n",
    "6. != (Not equal to)"
   ]
  },
  {
   "cell_type": "markdown",
   "id": "76cc4341",
   "metadata": {},
   "source": [
    "6. How do you tell the difference between the equal to and assignment operators? Describe a condition and when you would use one."
   ]
  },
  {
   "cell_type": "code",
   "execution_count": null,
   "id": "f8f057d1",
   "metadata": {},
   "outputs": [],
   "source": [
    "Equal to operator the comparision operator where as assignment operator does assigns (storting or allocating) the value.\n",
    "\n",
    "equal to operator is represented by == double symbols. 10 == 10 (compares whether 10 is equal to 10 are not)---> True\n",
    "\n",
    "assignment operator is represented by = single symbol. a = 10 (assigns 10 to the variable a)"
   ]
  },
  {
   "cell_type": "markdown",
   "id": "0cf433c4",
   "metadata": {},
   "source": [
    "7. Identify the three blocks in this code:\n",
    "spam = 0\n",
    "if spam == 10:\n",
    "print('eggs')\n",
    "if spam > 5:\n",
    "print('bacon')\n",
    "else:\n",
    "print('ham')\n",
    "print('spam')\n",
    "print('spam')"
   ]
  },
  {
   "cell_type": "code",
   "execution_count": null,
   "id": "7a788c81",
   "metadata": {},
   "outputs": [],
   "source": [
    "spam = 0\n",
    "#---- block - 1 --- \n",
    "if spam == 10:\n",
    "print('eggs')\n",
    "\n",
    "#---- block - 2 ---\n",
    "if spam > 5:\n",
    "print('bacon')\n",
    "#----- block - 3 ----\n",
    "else:\n",
    "print('ham')\n",
    "print('spam')\n",
    "print('spam')"
   ]
  },
  {
   "cell_type": "markdown",
   "id": "76170a43",
   "metadata": {},
   "source": [
    "8. Write code that prints Hello if 1 is stored in spam, prints Howdy if 2 is stored in spam, and prints Greetings! if anything else is stored in spam."
   ]
  },
  {
   "cell_type": "code",
   "execution_count": null,
   "id": "f5da0036",
   "metadata": {},
   "outputs": [],
   "source": [
    "spam = int(input(\"Enter a number: \"))\n",
    "if spam == 1:\n",
    "    print(\"Hello\")\n",
    "elif spam ==2:\n",
    "    print(\"Howdy\")\n",
    "else:\n",
    "    print(\"Greetings!\")"
   ]
  },
  {
   "cell_type": "markdown",
   "id": "8004d836",
   "metadata": {},
   "source": [
    "9. If your programme is stuck in an endless loop, what keys you’ll press?"
   ]
  },
  {
   "cell_type": "code",
   "execution_count": null,
   "id": "3b7ca037",
   "metadata": {},
   "outputs": [],
   "source": [
    "Ctrl+C is pressed to stop the endless loop."
   ]
  },
  {
   "cell_type": "markdown",
   "id": "fbcb15d5",
   "metadata": {},
   "source": [
    "10. How can you tell the difference between break and continue?"
   ]
  },
  {
   "cell_type": "code",
   "execution_count": null,
   "id": "838838d7",
   "metadata": {},
   "outputs": [],
   "source": [
    "Both are control flow statements\n",
    "    break statement- the program execution in that loop will exits where it encounters break statement and remaining part\n",
    "                    of the programs execution takes place.\n",
    "    \n",
    "    continue statement - the program skips whenever it encounters continue statement in that loop\n",
    "                            and continues the remaining part of program     \n",
    "# Break example  \n",
    "for i in range(9):\n",
    "    if i == 4:\n",
    "        break\n",
    "    print(i)\n",
    "\n",
    "# Continue example \n",
    "for j in range(9):\n",
    "    if j == 4:\n",
    "        continue\n",
    "    print(j)    \n",
    "        "
   ]
  },
  {
   "cell_type": "markdown",
   "id": "777c32b0",
   "metadata": {},
   "source": [
    "11. In a for loop, what is the difference between range(10), range(0, 10), and range(0, 10, 1)?"
   ]
  },
  {
   "cell_type": "code",
   "execution_count": null,
   "id": "e59a301f",
   "metadata": {},
   "outputs": [],
   "source": [
    "range(10) - In this expression, only ending point is stated and by default starts with 0. \n",
    "            Also by default steps increments by 1.\n",
    "\n",
    "range(0, 10) - In this expression, starting and ending places of range are stated. Also by default steps increments by 1.\n",
    "\n",
    "range(0, 10, 1) - In this expression along with starting and ending, step is also stated specifically \n",
    "                    and increased by 1 explicitly. \n",
    "    \n",
    "    \n",
    "For all the given expressions, the results are same only the way notation is different in above cases."
   ]
  },
  {
   "cell_type": "code",
   "execution_count": 13,
   "id": "dbe1df5e",
   "metadata": {},
   "outputs": [
    {
     "name": "stdout",
     "output_type": "stream",
     "text": [
      "0\n",
      "1\n",
      "2\n",
      "3\n",
      "4\n",
      "5\n",
      "6\n",
      "7\n",
      "8\n",
      "9\n",
      "----\n",
      "0\n",
      "1\n",
      "2\n",
      "3\n",
      "4\n",
      "5\n",
      "6\n",
      "7\n",
      "8\n",
      "9\n",
      "----\n",
      "0\n",
      "1\n",
      "2\n",
      "3\n",
      "4\n",
      "5\n",
      "6\n",
      "7\n",
      "8\n",
      "9\n"
     ]
    }
   ],
   "source": [
    "for i in range(10):\n",
    "    print(i)\n",
    "print(\"----\")\n",
    "for i in range(0,10):\n",
    "    print(i)\n",
    "print(\"----\")\n",
    "for i in range(0,10,1):\n",
    "    print(i)"
   ]
  },
  {
   "cell_type": "markdown",
   "id": "5e6513c5",
   "metadata": {},
   "source": [
    "12. Write a short program that prints the numbers 1 to 10 using a for loop. Then write an equivalent program that prints the numbers 1 to 10 using a while loop."
   ]
  },
  {
   "cell_type": "code",
   "execution_count": 5,
   "id": "302fb6db",
   "metadata": {},
   "outputs": [
    {
     "name": "stdout",
     "output_type": "stream",
     "text": [
      "For loop\n",
      "1\n",
      "2\n",
      "3\n",
      "4\n",
      "5\n",
      "6\n",
      "7\n",
      "8\n",
      "9\n",
      "10\n",
      "\n",
      "While loop\n",
      "1\n",
      "2\n",
      "3\n",
      "4\n",
      "5\n",
      "6\n",
      "7\n",
      "8\n",
      "9\n",
      "10\n"
     ]
    }
   ],
   "source": [
    "\n",
    "print(\"For loop\")\n",
    "# for loop\n",
    "for i in range(1,11):\n",
    "    print(i)\n",
    "    \n",
    "print()\n",
    "print(\"While loop\")\n",
    "\n",
    "# While loop\n",
    "j=1    \n",
    "while j <=10:\n",
    "    print(j)\n",
    "    j+=1"
   ]
  },
  {
   "cell_type": "markdown",
   "id": "ccf48e96",
   "metadata": {},
   "source": [
    "13. If you had a function named bacon() inside a module named spam, how would you call it after importing spam?"
   ]
  },
  {
   "cell_type": "code",
   "execution_count": null,
   "id": "bd93a99b",
   "metadata": {},
   "outputs": [],
   "source": [
    "The function named bacon() of a module spam can be called with spam.bacon()"
   ]
  }
 ],
 "metadata": {
  "kernelspec": {
   "display_name": "Python 3 (ipykernel)",
   "language": "python",
   "name": "python3"
  },
  "language_info": {
   "codemirror_mode": {
    "name": "ipython",
    "version": 3
   },
   "file_extension": ".py",
   "mimetype": "text/x-python",
   "name": "python",
   "nbconvert_exporter": "python",
   "pygments_lexer": "ipython3",
   "version": "3.9.13"
  }
 },
 "nbformat": 4,
 "nbformat_minor": 5
}
