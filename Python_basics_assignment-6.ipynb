{
 "cells": [
  {
   "cell_type": "markdown",
   "id": "0a605b1f",
   "metadata": {},
   "source": [
    "1. What are keywords in python? Using the keyword library, print all the python keywords."
   ]
  },
  {
   "cell_type": "code",
   "execution_count": null,
   "id": "16906d16",
   "metadata": {},
   "outputs": [],
   "source": [
    "Keywords in python are predefined and reserved word which are part of syntax and structure of program."
   ]
  },
  {
   "cell_type": "code",
   "execution_count": 14,
   "id": "022c139d",
   "metadata": {},
   "outputs": [
    {
     "name": "stdout",
     "output_type": "stream",
     "text": [
      "['False', 'None', 'True', '__peg_parser__', 'and', 'as', 'assert', 'async', 'await', 'break', 'class', 'continue', 'def', 'del', 'elif', 'else', 'except', 'finally', 'for', 'from', 'global', 'if', 'import', 'in', 'is', 'lambda', 'nonlocal', 'not', 'or', 'pass', 'raise', 'return', 'try', 'while', 'with', 'yield']\n"
     ]
    }
   ],
   "source": [
    "import keyword\n",
    "\n",
    "all = keyword.kwlist\n",
    "print(all)"
   ]
  },
  {
   "cell_type": "markdown",
   "id": "420de21f",
   "metadata": {},
   "source": [
    "2. What are the rules to create variables in python?"
   ]
  },
  {
   "cell_type": "code",
   "execution_count": null,
   "id": "6b0e2e26",
   "metadata": {},
   "outputs": [],
   "source": [
    "A variable is a name used to store data or assign a value. \n",
    "Rules:\n",
    "1. A variable can begin with a character (uppercase or lowercase) or an underscore (_)  [a-z,A-Z,_],\n",
    "followed by letters, digits (0-9). \n",
    "2. The first character cannot be a digit.\n",
    "3. A variable can not contain space in middle.\n",
    "4. Keyword can not be a variable."
   ]
  },
  {
   "cell_type": "markdown",
   "id": "85e40ca2",
   "metadata": {},
   "source": [
    "3. What are the standards and conventions followed for the nomenclature of variables in python to improve code readability and maintainability?"
   ]
  },
  {
   "cell_type": "code",
   "execution_count": null,
   "id": "368af3c2",
   "metadata": {},
   "outputs": [],
   "source": [
    "Use Descriptive Names: Variable names should be descriptive and indicative of their purpose or the data they store. \n",
    "                        Names like total_count, user_input.\n",
    "\n",
    "Follow PEP 8 Guidelines: PEP 8 is the official style guide for Python code. \n",
    "                        It recommends using lowercase for variable names.\n",
    "    \n",
    "Avoid Using Reserved Keywords: Avoid using reserved Python keywords as variable names. "
   ]
  },
  {
   "cell_type": "markdown",
   "id": "fc9997f4",
   "metadata": {},
   "source": [
    "4. What will happen if a keyword is used as a variable name?"
   ]
  },
  {
   "cell_type": "code",
   "execution_count": null,
   "id": "261c4c30",
   "metadata": {},
   "outputs": [],
   "source": [
    "it results in Syntax error"
   ]
  },
  {
   "cell_type": "markdown",
   "id": "148434e3",
   "metadata": {},
   "source": [
    "5. For what purpose def keyword is used?"
   ]
  },
  {
   "cell_type": "code",
   "execution_count": null,
   "id": "edef6a08",
   "metadata": {},
   "outputs": [],
   "source": [
    "\"def\" keyword is used to define a funtion. It is declared at the start and before the function name."
   ]
  },
  {
   "cell_type": "markdown",
   "id": "0bc921a9",
   "metadata": {},
   "source": [
    "6. What is the operation of this special character ‘\\’?"
   ]
  },
  {
   "cell_type": "code",
   "execution_count": null,
   "id": "0b46b070",
   "metadata": {},
   "outputs": [],
   "source": [
    "\"\\\" is known for escape character. It allows the inclusion of special characters.\n",
    "\\t - allow to take tab space\n",
    "\\n - new line\n",
    "\\\\ - represents single backslash\n",
    "\\' - single quote\n",
    "\\\" - Represents double quote"
   ]
  },
  {
   "cell_type": "code",
   "execution_count": 43,
   "id": "16a67a37",
   "metadata": {},
   "outputs": [
    {
     "name": "stdout",
     "output_type": "stream",
     "text": [
      "The Commentator said: \n",
      " \"Hello India!\" \n"
     ]
    }
   ],
   "source": [
    "print(\"The Commentator said: \\n \\\"Hello India!\\\" \")"
   ]
  },
  {
   "cell_type": "markdown",
   "id": "5f4ec995",
   "metadata": {},
   "source": [
    "7. Give an example of the following conditions:\n",
    "(i) Homogeneous list\n",
    "(ii) Heterogeneous set\n",
    "(iii) Homogeneous tuple"
   ]
  },
  {
   "cell_type": "code",
   "execution_count": null,
   "id": "45bd5bf2",
   "metadata": {},
   "outputs": [],
   "source": [
    "i) Homogeneous list - The list having items of same datatypes\n",
    "\n",
    "ex: my_list_intergers = [1, 2, 54, 12, 98] #---> all elements are intergers\n",
    "    my_list_strings = [\"hi\", \"hello\", \"welcome\"] #----> All elements are strings"
   ]
  },
  {
   "cell_type": "code",
   "execution_count": null,
   "id": "021cdf8a",
   "metadata": {},
   "outputs": [],
   "source": [
    "(ii) Heterogeneous set - The set having items of different datatypes.\n",
    "\n",
    "ex: my_hetro_set = {1, 2, \"hello\", 54.34 , 12, 98}\n",
    "    \n",
    "    It has integers(1,2,12,98), Strings (\"hello\") and float(54.34) data types."
   ]
  },
  {
   "cell_type": "code",
   "execution_count": null,
   "id": "1bf6601e",
   "metadata": {},
   "outputs": [],
   "source": [
    "(iii) Homogeneous tuple - The tuple having items of same datatypes\n",
    "\n",
    "ex: my_homo_tuple = (1, 54, 12, 2, 98) #---> all elements are intergers"
   ]
  },
  {
   "cell_type": "markdown",
   "id": "f4832e5d",
   "metadata": {},
   "source": [
    "8. Explain the mutable and immutable data types with proper explanation & examples."
   ]
  },
  {
   "cell_type": "code",
   "execution_count": null,
   "id": "39c1eab5",
   "metadata": {},
   "outputs": [],
   "source": [
    "Data types which are changable and can be manipulated dynamically are known as mutable data types. \n",
    "list, dictionary, set"
   ]
  },
  {
   "cell_type": "code",
   "execution_count": 40,
   "id": "2284f2b6",
   "metadata": {},
   "outputs": [
    {
     "name": "stdout",
     "output_type": "stream",
     "text": [
      "[12, 56, 'a', 8]\n"
     ]
    }
   ],
   "source": [
    "my_list = [12,\"help\", 'a', 8]\n",
    "my_list[1] = 56 # ---> changing or assigning 56 to the list\n",
    "print(my_list)"
   ]
  },
  {
   "cell_type": "code",
   "execution_count": 36,
   "id": "3033cede",
   "metadata": {},
   "outputs": [],
   "source": [
    "Data types which are unchangable and cannot be manipulated are known as immutable data types. \n",
    "integers, flaot, bool, strings, tuples"
   ]
  },
  {
   "cell_type": "code",
   "execution_count": 41,
   "id": "9f7d0e37",
   "metadata": {},
   "outputs": [
    {
     "ename": "TypeError",
     "evalue": "'str' object does not support item assignment",
     "output_type": "error",
     "traceback": [
      "\u001b[1;31m---------------------------------------------------------------------------\u001b[0m",
      "\u001b[1;31mTypeError\u001b[0m                                 Traceback (most recent call last)",
      "\u001b[1;32m~\\AppData\\Local\\Temp\\ipykernel_11892\\2249580275.py\u001b[0m in \u001b[0;36m<module>\u001b[1;34m\u001b[0m\n\u001b[0;32m      1\u001b[0m \u001b[0ma\u001b[0m \u001b[1;33m=\u001b[0m \u001b[1;34m\"pradeep\"\u001b[0m\u001b[1;33m\u001b[0m\u001b[1;33m\u001b[0m\u001b[0m\n\u001b[1;32m----> 2\u001b[1;33m \u001b[0ma\u001b[0m\u001b[1;33m[\u001b[0m\u001b[1;36m2\u001b[0m\u001b[1;33m]\u001b[0m \u001b[1;33m=\u001b[0m \u001b[1;34m\"g\"\u001b[0m\u001b[1;33m\u001b[0m\u001b[1;33m\u001b[0m\u001b[0m\n\u001b[0m\u001b[0;32m      3\u001b[0m \u001b[0mprint\u001b[0m\u001b[1;33m(\u001b[0m\u001b[0ma\u001b[0m\u001b[1;33m)\u001b[0m\u001b[1;33m\u001b[0m\u001b[1;33m\u001b[0m\u001b[0m\n",
      "\u001b[1;31mTypeError\u001b[0m: 'str' object does not support item assignment"
     ]
    }
   ],
   "source": [
    "a = \"pradeep\"\n",
    "a[2] = \"g\" # ---> can't be manipulated\n",
    "print(a)"
   ]
  },
  {
   "cell_type": "markdown",
   "id": "f65b9f95",
   "metadata": {},
   "source": [
    "9. Write a code to create the given structure using only for loop.\n",
    "\n",
    "*\n",
    "***\n",
    "*****\n",
    "*******\n",
    "*********"
   ]
  },
  {
   "cell_type": "code",
   "execution_count": 37,
   "id": "bd980329",
   "metadata": {},
   "outputs": [
    {
     "name": "stdout",
     "output_type": "stream",
     "text": [
      "Enter the number of rows the pattern to be repeated: 5\n",
      "*\n",
      "***\n",
      "*****\n",
      "*******\n",
      "*********\n"
     ]
    }
   ],
   "source": [
    "n = int(input(\"Enter the number of rows the pattern to be repeated: \"))\n",
    "r = 1\n",
    "for i in range(n):\n",
    "    print(\"*\" * ((r*2)-1) , end=\"\")\n",
    "    r += 1\n",
    "    print()        "
   ]
  },
  {
   "cell_type": "markdown",
   "id": "3094a11f",
   "metadata": {},
   "source": [
    "10. Write a code to create the given structure using while loop.\n",
    "|||||||||\n",
    "|||||||\n",
    "|||||\n",
    "|||\n",
    "|"
   ]
  },
  {
   "cell_type": "code",
   "execution_count": 38,
   "id": "5526908c",
   "metadata": {},
   "outputs": [
    {
     "name": "stdout",
     "output_type": "stream",
     "text": [
      "Enter the number of rows the pattern to be repeated: 5\n",
      "|||||||||\n",
      "|||||||\n",
      "|||||\n",
      "|||\n",
      "|\n",
      "\n"
     ]
    }
   ],
   "source": [
    "n =  int(input(\"Enter the number of rows the pattern to be repeated: \"))\n",
    "r = n\n",
    "for i in range(n+1):\n",
    "    print(\"|\" * ((r*2)-1) , end=\"\")\n",
    "    r-=1\n",
    "    print()"
   ]
  }
 ],
 "metadata": {
  "kernelspec": {
   "display_name": "Python 3 (ipykernel)",
   "language": "python",
   "name": "python3"
  },
  "language_info": {
   "codemirror_mode": {
    "name": "ipython",
    "version": 3
   },
   "file_extension": ".py",
   "mimetype": "text/x-python",
   "name": "python",
   "nbconvert_exporter": "python",
   "pygments_lexer": "ipython3",
   "version": "3.9.13"
  }
 },
 "nbformat": 4,
 "nbformat_minor": 5
}
