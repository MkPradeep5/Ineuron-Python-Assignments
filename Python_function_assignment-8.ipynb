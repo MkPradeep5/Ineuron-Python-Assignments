{
 "cells": [
  {
   "cell_type": "markdown",
   "id": "c1f21370",
   "metadata": {},
   "source": [
    "1. In Python, what is the difference between a built-in function and a user-defined function? Provide an example of each."
   ]
  },
  {
   "cell_type": "code",
   "execution_count": null,
   "id": "e6126dfe",
   "metadata": {},
   "outputs": [],
   "source": [
    "Built-in functions are the predefined function those are ready to used in python. \n",
    "Built -in Functions can used without importing any module. \n",
    "print(), len(), max(),min()\n",
    "\n",
    "User-defined functions are defined by user to perform the particular task.\n",
    "def greetings(name):\n",
    "    print(f\"Welcome! {name}\")\n",
    "greetings(\"\\\"Ineuron\\\"\")"
   ]
  },
  {
   "cell_type": "markdown",
   "id": "2221dc30",
   "metadata": {},
   "source": [
    "2. How can you pass arguments to a function in Python? Explain the difference between positional arguments and keyword arguments."
   ]
  },
  {
   "cell_type": "code",
   "execution_count": null,
   "id": "7fc03bc1",
   "metadata": {},
   "outputs": [],
   "source": [
    "Agruments are passed to the function through the function call.\n",
    "\n",
    "Arguments can be passed to function in python is two ways:\n",
    "\n",
    "positional arguments: Argumets are passed to the function based on the postion or sequence as\n",
    "        they are passed through the function call.\n",
    "\n",
    "keyword arguments: In function call itself the arguments of the function are used as keys (argument name) and \n",
    "        a value is assigned to the respective arugument (similar like dictionary key-value pair). \n",
    "        Irresepective of the sequence the values are assigned to the argument in the function."
   ]
  },
  {
   "cell_type": "code",
   "execution_count": 6,
   "id": "a1ac901e",
   "metadata": {},
   "outputs": [
    {
     "name": "stdout",
     "output_type": "stream",
     "text": [
      "postional Arugments\n",
      "a value: 4\n",
      "b value: 9\n",
      "Sum: 13\n",
      "------\n",
      "Keyword Arugments\n",
      "a value: 20\n",
      "b value: 15\n",
      "Sum: 35\n"
     ]
    }
   ],
   "source": [
    "#Usecase:\n",
    "def add(a,b):\n",
    "    print(\"a value:\",a)\n",
    "    print(\"b value:\",b)\n",
    "    c = a+b\n",
    "    print(\"Sum:\",c)\n",
    "\n",
    "print(\"postional Arugments\")\n",
    "add(4,9)  #---> postional Arugments \n",
    "print(\"------\")\n",
    "print(\"Keyword Arugments\")\n",
    "add (b=15,a=20)   #---> Keyword Arugments\n",
    "    "
   ]
  },
  {
   "cell_type": "markdown",
   "id": "80936dda",
   "metadata": {},
   "source": [
    "3. What is the purpose of the return statement in a function? Can a function have multiple return statements? Explain with an example."
   ]
  },
  {
   "cell_type": "code",
   "execution_count": null,
   "id": "2ae34775",
   "metadata": {},
   "outputs": [],
   "source": [
    "return statement will returns the result of the function. Exits the function when the program encounters return statement. \n",
    "return statement is included at the end of function body \n",
    "having return statement in function is not mandatory. \n",
    "Yes, A function can have multiple return  statements."
   ]
  },
  {
   "cell_type": "code",
   "execution_count": 18,
   "id": "8a570bcb",
   "metadata": {},
   "outputs": [],
   "source": [
    "# Example: A function can have multiple return statements\n",
    "def fact(n):\n",
    "    if n <=1:\n",
    "        return 1   # ---> 1st return statement, excutes and terminates the function when n is lessthan 2\n",
    "    else:\n",
    "        result = n * fact(n-1)\n",
    "    return result  # ---> 2nd return statement, gives the overall result"
   ]
  },
  {
   "cell_type": "markdown",
   "id": "1886b54a",
   "metadata": {},
   "source": [
    "4. What are lambda functions in Python? How are they different from regular functions? Provide an example where a lambda function can be useful."
   ]
  },
  {
   "cell_type": "code",
   "execution_count": null,
   "id": "0e3fec2b",
   "metadata": {},
   "outputs": [],
   "source": [
    "Lambda function is (anonymys) function in python and is a single line function.\n",
    "Lambda function always takes arguments and gives single result after operations. \n",
    "It is commonly used with map(), reduce(), sorted() and filter() methods.\n",
    "\n",
    "Lambda function is not defined like regular function syntax. For defining lamda function keyword lamda is used."
   ]
  },
  {
   "cell_type": "code",
   "execution_count": 77,
   "id": "2dfea37c",
   "metadata": {},
   "outputs": [
    {
     "data": {
      "text/plain": [
       "8"
      ]
     },
     "execution_count": 77,
     "metadata": {},
     "output_type": "execute_result"
    }
   ],
   "source": [
    "# Lambda function usecase:\n",
    "\n",
    "add = lambda x, y : x + y \n",
    "add(3,5)"
   ]
  },
  {
   "cell_type": "code",
   "execution_count": 94,
   "id": "fd3b14a3",
   "metadata": {},
   "outputs": [
    {
     "data": {
      "text/plain": [
       "[3, 6, 9, 12, 'aaa', 'bbb']"
      ]
     },
     "execution_count": 94,
     "metadata": {},
     "output_type": "execute_result"
    }
   ],
   "source": [
    "# Lambda function usecase:\n",
    "my_list = [1,2,3,4,\"a\",\"b\"]\n",
    "multiply_3 = lambda x: [i * 3 for i in x] \n",
    "multiply_3(my_list)"
   ]
  },
  {
   "cell_type": "markdown",
   "id": "636d87f8",
   "metadata": {},
   "source": [
    "5. How does the concept of \"scope\" apply to functions in Python? Explain the difference between local scope and global scope."
   ]
  },
  {
   "cell_type": "code",
   "execution_count": null,
   "id": "9afae634",
   "metadata": {},
   "outputs": [],
   "source": [
    "The variable in functions have limitions while they are accessing. Its accessibility is depended on its scope.\n",
    "Thus scope is of local and global.\n",
    "\n",
    "Local Scope: The variables defined in side a funciton is limited to that function itself. \n",
    "    They are only accesable inside that function and not accessible outside of the funciton.\n",
    "    If local or function variables are reffered outside then the programs raises an error.\n",
    "    \n",
    "Global Scope: The variable which can be referred anywhere in the program will have global scope. \n",
    "    In one process, they are defined outside the functions. Thus they can be modified or accessed anywhere in the program.\n",
    "    The other method is using global keyword before the variable. Thus the scope of local variable can be changed to global\n",
    "    scope. "
   ]
  },
  {
   "cell_type": "markdown",
   "id": "88286125",
   "metadata": {},
   "source": [
    "6. How can you use the \"return\" statement in a Python function to return multiple values?"
   ]
  },
  {
   "cell_type": "code",
   "execution_count": 95,
   "id": "7336e5ab",
   "metadata": {},
   "outputs": [
    {
     "name": "stdout",
     "output_type": "stream",
     "text": [
      "Sum of two numbers: 105\n"
     ]
    }
   ],
   "source": [
    "# return also can have multiple return values\n",
    "def operations(a,b):\n",
    "    add = a+b\n",
    "    mul = a*b\n",
    "    sub = a-b\n",
    "    div = a/b\n",
    "    return {\"addition\": add,\"multiplication\": mul, \"subtraction\":sub, \"divison\":div}\n",
    "\n",
    "result = operations(100,5)\n",
    "print(\"Sum of two numbers:\", result[\"addition\"])"
   ]
  },
  {
   "cell_type": "markdown",
   "id": "56275864",
   "metadata": {},
   "source": [
    "7. What is the difference between the \"pass by value\" and \"pass by reference\" concepts when it comes to function arguments in Python?"
   ]
  },
  {
   "cell_type": "code",
   "execution_count": null,
   "id": "b5a2dc7b",
   "metadata": {},
   "outputs": [],
   "source": [
    "pass by value: Actual value of the variable is passed through aruguments. Modifications made to the aruguments \n",
    "        in the function does not affect the orignal variable value. They are typically immutable objects.\n",
    "pass by reference: Variable passed with their address reference. The modifications made to the arugumet variables\n",
    "        in the function will change the orginal variable. They are typically mutable objects. \n",
    "    \n",
    "In generally, python handels aruguments involve pass by object reference."
   ]
  },
  {
   "cell_type": "markdown",
   "id": "13d7b451",
   "metadata": {},
   "source": [
    "8. Create a function that can intake integer or decimal value and do following operations:\n",
    "a. Logarithmic function (log x)\n",
    "b. Exponential function (exp(x))\n",
    "c. Power function with base 2 (2x)\n",
    "d. Square root"
   ]
  },
  {
   "cell_type": "code",
   "execution_count": 41,
   "id": "c010cac8",
   "metadata": {},
   "outputs": [
    {
     "name": "stdout",
     "output_type": "stream",
     "text": [
      "Logarithmic=2.0794415416798357 \n",
      "Exponential= 2980.9579870417283 \n",
      "Power function with base 2= 256\n",
      "Square root= 2.8284271247461903\n"
     ]
    }
   ],
   "source": [
    "import math\n",
    "\n",
    "def math_operations(x):\n",
    "    if (type(x) is int or float) and x > 0:\n",
    "        power_base2 = 2**x\n",
    "        square_root = math.sqrt(x)\n",
    "        log = math.log(x)\n",
    "        exopential = math.exp(x)\n",
    "        print (f\"Logarithmic={log} \\nExponential= {exopential} \\nPower function with base 2= {power_base2}\"\n",
    "                  f\"\\nSquare root= {square_root}\") \n",
    "    else:\n",
    "        return \"Input should be greather than zero\"\n",
    "        \n",
    "math_operations(8)"
   ]
  },
  {
   "cell_type": "markdown",
   "id": "62710a22",
   "metadata": {},
   "source": [
    "9. Create a function that takes a full name as an argument and returns first name and last name."
   ]
  },
  {
   "cell_type": "code",
   "execution_count": 42,
   "id": "1b266ff1",
   "metadata": {
    "scrolled": true
   },
   "outputs": [
    {
     "name": "stdout",
     "output_type": "stream",
     "text": [
      "first name is \"MK\" and last name is \"Pradeep\"\n"
     ]
    }
   ],
   "source": [
    "def name(full_name):\n",
    "    try:\n",
    "        name = list(full_name.split(\" \"))\n",
    "        first_name = name[0]\n",
    "        last_name = name[1]\n",
    "        print(f\"first name is \\\"{first_name}\\\" and last name is \\\"{last_name}\\\"\")\n",
    "    except:\n",
    "        print(\"Given\",full_name ,\"doesn\\'t have last name \")\n",
    "\n",
    "name(\"MK Pradeep\")"
   ]
  }
 ],
 "metadata": {
  "kernelspec": {
   "display_name": "Python 3 (ipykernel)",
   "language": "python",
   "name": "python3"
  },
  "language_info": {
   "codemirror_mode": {
    "name": "ipython",
    "version": 3
   },
   "file_extension": ".py",
   "mimetype": "text/x-python",
   "name": "python",
   "nbconvert_exporter": "python",
   "pygments_lexer": "ipython3",
   "version": "3.9.13"
  }
 },
 "nbformat": 4,
 "nbformat_minor": 5
}
