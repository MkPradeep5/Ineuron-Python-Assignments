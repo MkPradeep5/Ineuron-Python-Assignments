{
 "cells": [
  {
   "cell_type": "markdown",
   "id": "d57f3482",
   "metadata": {},
   "source": [
    "1. What exactly is  [] ?"
   ]
  },
  {
   "cell_type": "code",
   "execution_count": null,
   "id": "f9671ceb",
   "metadata": {},
   "outputs": [],
   "source": [
    "[] is empty list."
   ]
  },
  {
   "cell_type": "markdown",
   "id": "ac3a28fe",
   "metadata": {},
   "source": [
    "2. In a list of values stored in a variable called spam, how would you assign the value 'hello' as the third value? (Assume [2, 4, 6, 8, 10] are in spam.) "
   ]
  },
  {
   "cell_type": "code",
   "execution_count": 17,
   "id": "1262e7a3",
   "metadata": {},
   "outputs": [
    {
     "name": "stdout",
     "output_type": "stream",
     "text": [
      "[2, 4, 'hello', 8, 10]\n"
     ]
    }
   ],
   "source": [
    "spam = [2, 4, 6, 8, 10]\n",
    "spam[2] = 'hello' #----> Index starts with 0. Thus to place \"hello\" in 3rd place, inserted at 2nd index  \n",
    "print(spam)"
   ]
  },
  {
   "cell_type": "markdown",
   "id": "8b3807a8",
   "metadata": {},
   "source": [
    "3. 4.5. Let's pretend the spam includes the list ['a', 'b', 'c', 'd'] for the next three queries."
   ]
  },
  {
   "cell_type": "code",
   "execution_count": 19,
   "id": "47e87aec",
   "metadata": {},
   "outputs": [],
   "source": [
    "spam =  ['a', 'b', 'c', 'd']"
   ]
  },
  {
   "cell_type": "markdown",
   "id": "5618c977",
   "metadata": {},
   "source": [
    "3. What is the value of spam[int(int('3' * 2) / 11)]?"
   ]
  },
  {
   "cell_type": "code",
   "execution_count": 3,
   "id": "69375ad9",
   "metadata": {},
   "outputs": [],
   "source": [
    "The value of spam[int(int('3' * 2) / 11)] is \"d\"\n",
    "\n",
    "#step -1: '3'* 2 --> gives 33, as '3' is string multiplied by 2 then the string is repeated twice \n",
    "#step -2: '33' is string datatype, by using int() function, string is coverted to integer.\n",
    "#step -3: integer 33 divided by 11 and gives 3 which is float datatype\n",
    "#step -4: float datatype 3 is converted int by using int() function\n",
    "#step -5: spam[3] retuns 4th value in the spam list"
   ]
  },
  {
   "cell_type": "markdown",
   "id": "f44abc00",
   "metadata": {},
   "source": [
    "4. What is the value of spam[-1]?"
   ]
  },
  {
   "cell_type": "code",
   "execution_count": null,
   "id": "46b467c2",
   "metadata": {},
   "outputs": [],
   "source": [
    "the value of spam[-1] returns \"d\"\n",
    "\n",
    "# -1 gives last value of the list\n",
    "# minus symbol reffered to access the list from the back. \n",
    "# -1 reffers last value,-2 reffers 2nd value from the end of list..."
   ]
  },
  {
   "cell_type": "markdown",
   "id": "5d874476",
   "metadata": {},
   "source": [
    "5. What is the value of spam[:2]?"
   ]
  },
  {
   "cell_type": "code",
   "execution_count": null,
   "id": "78a150a9",
   "metadata": {},
   "outputs": [],
   "source": [
    "The value of spam[:2] gives\n",
    "['a','b']\n",
    "\n",
    "# [:2] is list slicing and retrives values from the list\n",
    "# 2 is excluded and 0, 1 indexs values are extracted."
   ]
  },
  {
   "cell_type": "markdown",
   "id": "3d233e26",
   "metadata": {},
   "source": [
    "6. 7. 8. Let's pretend bacon has the list [3.14, 'cat,' 11, 'cat,' True] for the next three questions."
   ]
  },
  {
   "cell_type": "code",
   "execution_count": 34,
   "id": "4d42d227",
   "metadata": {},
   "outputs": [],
   "source": [
    "bacon = [3.14, 'cat', 11, 'cat', True]"
   ]
  },
  {
   "cell_type": "markdown",
   "id": "cf9c950f",
   "metadata": {},
   "source": [
    "6. What is the value of bacon.index('cat')?"
   ]
  },
  {
   "cell_type": "code",
   "execution_count": null,
   "id": "76d24c6c",
   "metadata": {},
   "outputs": [],
   "source": [
    "The value of bacon.index('cat') is 1."
   ]
  },
  {
   "cell_type": "markdown",
   "id": "19eabd34",
   "metadata": {},
   "source": [
    "7. How does bacon.append(99) change the look of the list value in bacon?"
   ]
  },
  {
   "cell_type": "code",
   "execution_count": null,
   "id": "bb81c94a",
   "metadata": {},
   "outputs": [],
   "source": [
    "[3.14, 'cat', 11, 'cat', True, 99]"
   ]
  },
  {
   "cell_type": "markdown",
   "id": "9fcab48c",
   "metadata": {},
   "source": [
    "8. How does bacon.remove('cat') change the look of the list in bacon?"
   ]
  },
  {
   "cell_type": "code",
   "execution_count": null,
   "id": "4e7f7b16",
   "metadata": {},
   "outputs": [],
   "source": [
    "[3.14, 11, 'cat', True, 99]"
   ]
  },
  {
   "cell_type": "markdown",
   "id": "1685f739",
   "metadata": {},
   "source": [
    "9. What are the list concatenation and list replication operators?"
   ]
  },
  {
   "cell_type": "code",
   "execution_count": null,
   "id": "19bec42c",
   "metadata": {},
   "outputs": [],
   "source": [
    "List concatentaion operator \"+\" is adding up multiple list in to single list.\n",
    "List Replication operator \"*\" Copy list into new list or duplicating a list in the specified number of times."
   ]
  },
  {
   "cell_type": "markdown",
   "id": "5ad77eec",
   "metadata": {},
   "source": [
    "10. What is difference between the list methods append() and insert()?"
   ]
  },
  {
   "cell_type": "code",
   "execution_count": null,
   "id": "693769a7",
   "metadata": {},
   "outputs": [],
   "source": [
    "append() method take the single argument and adds the argument to the end of the list.\n",
    "insert() method take two arguments and adds the element at the particular index. First aruguments takes the index and \n",
    "                    second arugument takes element(item) to be inserted at that index to the  list."
   ]
  },
  {
   "cell_type": "markdown",
   "id": "d237d7b1",
   "metadata": {},
   "source": [
    "11. What are the two methods for removing items from a list?"
   ]
  },
  {
   "cell_type": "code",
   "execution_count": null,
   "id": "af07bb59",
   "metadata": {},
   "outputs": [],
   "source": [
    "remove(), pop() are the two methods for removing the items from list.\n",
    "\n",
    "remove() method takes the item as arugument and delete its first occurrence.\n",
    "\n",
    "pop() menthod take the index number as argument and deletes the index. \n",
    "        If index is not passed then last element(-1) of the list is removed."
   ]
  },
  {
   "cell_type": "markdown",
   "id": "74dc2320",
   "metadata": {},
   "source": [
    "12. Describe how list values and string values are identical."
   ]
  },
  {
   "cell_type": "code",
   "execution_count": null,
   "id": "9ab9b5bc",
   "metadata": {},
   "outputs": [],
   "source": [
    "Both are sequential data structures - List are sequences of different datatypes, strings are sequence of characters.\n",
    "Both values have indexing and slicing\n",
    "Both are accesible through loops.\n",
    "\n",
    "But lists are mutable whereas strings are immutable."
   ]
  },
  {
   "cell_type": "markdown",
   "id": "1ca04512",
   "metadata": {},
   "source": [
    "13. What's the difference between tuples and lists?"
   ]
  },
  {
   "cell_type": "code",
   "execution_count": null,
   "id": "691bdd5f",
   "metadata": {},
   "outputs": [],
   "source": [
    "Lists are mutable (consumes more data). Lists are ordered. Offers dynamic manupulation.\n",
    "Synatx: list is enclosed in sqaure brackets \"[]\". \n",
    "    \n",
    "\n",
    "Tuples are immutable (Memory efficient). Tuples are ordered. Being a immutable, offers data integrity.\n",
    "Syntax:Tuples are enclosed in brackets\"()\"."
   ]
  },
  {
   "cell_type": "markdown",
   "id": "4de78300",
   "metadata": {},
   "source": [
    "14. How do you type a tuple value that only contains the integer 42?"
   ]
  },
  {
   "cell_type": "code",
   "execution_count": null,
   "id": "04024fdc",
   "metadata": {},
   "outputs": [],
   "source": [
    "tuple_value =(42)"
   ]
  },
  {
   "cell_type": "markdown",
   "id": "4750a604",
   "metadata": {},
   "source": [
    "15. How do you get a list value's tuple form? How do you get a tuple value's list form?"
   ]
  },
  {
   "cell_type": "code",
   "execution_count": 42,
   "id": "603e13c9",
   "metadata": {},
   "outputs": [
    {
     "name": "stdout",
     "output_type": "stream",
     "text": [
      "('a', 1, 'hello', 8, 1)\n",
      "['b', 2, 'hello', 9, 2]\n"
     ]
    }
   ],
   "source": [
    "#list values tuple form: \n",
    "list1 = [\"a\", 1,'hello', 8, 1]\n",
    "tuple1 = tuple(list1) #---> tuple() constructor is used to convert the list to tuple.\n",
    "print(tuple1)\n",
    "\n",
    "\n",
    "#tuple value's list form\n",
    "tuple2 = (\"b\", 2,'hello', 9, 2)\n",
    "list2 = list(tuple2) #---> list() constructor is used to convert the tuple to list.\n",
    "print(list2)\n",
    "\n",
    "\n",
    "# In both cases constructors list() and tuple () are used to get the respective data structures"
   ]
  },
  {
   "cell_type": "markdown",
   "id": "9efa69a0",
   "metadata": {},
   "source": [
    "16. Variables that \"contain\" list values are not necessarily lists themselves. Instead, what do they contain?"
   ]
  },
  {
   "cell_type": "code",
   "execution_count": null,
   "id": "16b10f7f",
   "metadata": {},
   "outputs": [],
   "source": [
    "They contain the memory references of the list."
   ]
  },
  {
   "cell_type": "markdown",
   "id": "c402da52",
   "metadata": {},
   "source": [
    "17. How do you distinguish between copy.copy() and copy.deepcopy()?"
   ]
  },
  {
   "cell_type": "code",
   "execution_count": null,
   "id": "15a67f05",
   "metadata": {},
   "outputs": [],
   "source": [
    "copy.copy() creates a shallow copy, meaning it duplicates the structure at the top level \n",
    "            but keeps references to the same objects within that structure. \n",
    "\n",
    "copy.deepcopy() creates a deep copy, duplicating the entire structure and all its nested objects, \n",
    "                resulting in complete isolation between the original and copied structures."
   ]
  }
 ],
 "metadata": {
  "kernelspec": {
   "display_name": "Python 3 (ipykernel)",
   "language": "python",
   "name": "python3"
  },
  "language_info": {
   "codemirror_mode": {
    "name": "ipython",
    "version": 3
   },
   "file_extension": ".py",
   "mimetype": "text/x-python",
   "name": "python",
   "nbconvert_exporter": "python",
   "pygments_lexer": "ipython3",
   "version": "3.9.13"
  }
 },
 "nbformat": 4,
 "nbformat_minor": 5
}
