{
 "cells": [
  {
   "cell_type": "markdown",
   "id": "96200b98",
   "metadata": {},
   "source": [
    "1. Why are functions advantageous to have in your programs?"
   ]
  },
  {
   "cell_type": "code",
   "execution_count": null,
   "id": "7512b3c5",
   "metadata": {},
   "outputs": [],
   "source": [
    "Functions are reusable, reduces the duplicate code, decreases the length of program, decreases the programming time"
   ]
  },
  {
   "cell_type": "markdown",
   "id": "caf499e7",
   "metadata": {},
   "source": [
    "2. When does the code in a function run: when it's specified or when it's called?"
   ]
  },
  {
   "cell_type": "code",
   "execution_count": null,
   "id": "6d70ec0e",
   "metadata": {},
   "outputs": [],
   "source": [
    "when a function is called then code in the function is executed.\n",
    "\n",
    "syntax: \n",
    "    \n",
    "def welcome(name):\n",
    "    return f\"Welcome! {name}\"\n",
    "\n",
    "welcome(\"Pradeep\") #---> function call"
   ]
  },
  {
   "cell_type": "markdown",
   "id": "ce365573",
   "metadata": {},
   "source": [
    "3. What statement creates a function?"
   ]
  },
  {
   "cell_type": "code",
   "execution_count": null,
   "id": "764f1955",
   "metadata": {},
   "outputs": [],
   "source": [
    "def keyword is used to create a function\n",
    "\n",
    "syntax: \n",
    "    \n",
    "def welcome(name):\n",
    "    return f\"Welcome! {name}\""
   ]
  },
  {
   "cell_type": "markdown",
   "id": "e901a8c5",
   "metadata": {},
   "source": [
    "4. What is the difference between a function and a function call?"
   ]
  },
  {
   "cell_type": "code",
   "execution_count": null,
   "id": "c1197dc6",
   "metadata": {},
   "outputs": [],
   "source": [
    "\"\"\"function is a block of resusable code with variables, statements and expressions.\n",
    "Function should be called explicitly for executing the code inside it. \n",
    "Calling the function explicitly is named as function call\"\"\"\n",
    "\n",
    "\"\"\"Function call is act of invoking or executing function\"\"\"\n",
    "\n",
    "# defining or creating Function\n",
    "def welcome(name):\n",
    "    print(f\"Welcome! {name}\") \n",
    "\n",
    "welcome(\"Pradeep\") #---> function call"
   ]
  },
  {
   "cell_type": "markdown",
   "id": "7418946a",
   "metadata": {},
   "source": [
    "5. How many global scopes are there in a Python program? How many local scopes?"
   ]
  },
  {
   "cell_type": "code",
   "execution_count": null,
   "id": "fb728e96",
   "metadata": {},
   "outputs": [],
   "source": [
    "There is one global scope for one python program. It is defined in the outermost script of python \n",
    "program and can be accessed any function, object.\n",
    "Local scoped are creared for each function call. Local scopes are temporary and are created when function is called\n",
    "and destroyed when function exits."
   ]
  },
  {
   "cell_type": "markdown",
   "id": "27ca94dd",
   "metadata": {},
   "source": [
    "6. What happens to variables in a local scope when the function call returns?"
   ]
  },
  {
   "cell_type": "code",
   "execution_count": null,
   "id": "873c6650",
   "metadata": {},
   "outputs": [],
   "source": [
    "When the function call returns the associated variable in local scope gets destroyed. All the variables defined within are\n",
    "removed from the memory.\n",
    "\n",
    "If trying to access the local scope variable after function call return through NameError - Variable is not defined."
   ]
  },
  {
   "cell_type": "code",
   "execution_count": 2,
   "id": "785d781f",
   "metadata": {},
   "outputs": [
    {
     "name": "stdout",
     "output_type": "stream",
     "text": [
      "10\n"
     ]
    },
    {
     "ename": "NameError",
     "evalue": "name 'x' is not defined",
     "output_type": "error",
     "traceback": [
      "\u001b[1;31m---------------------------------------------------------------------------\u001b[0m",
      "\u001b[1;31mNameError\u001b[0m                                 Traceback (most recent call last)",
      "\u001b[1;32m~\\AppData\\Local\\Temp\\ipykernel_18180\\483108717.py\u001b[0m in \u001b[0;36m<module>\u001b[1;34m\u001b[0m\n\u001b[0;32m      3\u001b[0m     \u001b[0mprint\u001b[0m\u001b[1;33m(\u001b[0m\u001b[0mx\u001b[0m\u001b[1;33m)\u001b[0m\u001b[1;33m\u001b[0m\u001b[1;33m\u001b[0m\u001b[0m\n\u001b[0;32m      4\u001b[0m \u001b[0mfun\u001b[0m\u001b[1;33m(\u001b[0m\u001b[1;33m)\u001b[0m\u001b[1;33m\u001b[0m\u001b[1;33m\u001b[0m\u001b[0m\n\u001b[1;32m----> 5\u001b[1;33m \u001b[0mprint\u001b[0m\u001b[1;33m(\u001b[0m\u001b[0mx\u001b[0m\u001b[1;33m)\u001b[0m\u001b[1;33m\u001b[0m\u001b[1;33m\u001b[0m\u001b[0m\n\u001b[0m",
      "\u001b[1;31mNameError\u001b[0m: name 'x' is not defined"
     ]
    }
   ],
   "source": [
    "def fun():\n",
    "    x = 10\n",
    "    print(x)\n",
    "fun()\n",
    "print(x)"
   ]
  },
  {
   "cell_type": "markdown",
   "id": "25efec73",
   "metadata": {},
   "source": [
    "7. What is the concept of a return value? Is it possible to have a return value in an expression?"
   ]
  },
  {
   "cell_type": "code",
   "execution_count": null,
   "id": "7b95fb61",
   "metadata": {},
   "outputs": [],
   "source": [
    "Return is the keyword included inthe function and returns value when function is called.  \n",
    "return value is assigned either to varaiable or used in expression.\n",
    "\n",
    "Return marks end of the function."
   ]
  },
  {
   "cell_type": "markdown",
   "id": "4a750371",
   "metadata": {},
   "source": [
    "8. If a function does not have a return statement, what is the return value of a call to that function?"
   ]
  },
  {
   "cell_type": "code",
   "execution_count": null,
   "id": "546908f3",
   "metadata": {},
   "outputs": [],
   "source": [
    "When function does not encounter a return statement, None is returned as value to the call to that function. \n",
    "None represents absent of value."
   ]
  },
  {
   "cell_type": "markdown",
   "id": "7629141a",
   "metadata": {},
   "source": [
    "9. How do you make a function variable refer to the global variable?"
   ]
  },
  {
   "cell_type": "code",
   "execution_count": null,
   "id": "e4af5065",
   "metadata": {},
   "outputs": [],
   "source": [
    " Using global keyword before the variable or declearing global vairable inside a function."
   ]
  },
  {
   "cell_type": "markdown",
   "id": "dd89ba31",
   "metadata": {},
   "source": [
    "10. What is the data type of None?"
   ]
  },
  {
   "cell_type": "code",
   "execution_count": null,
   "id": "6b3c92f7",
   "metadata": {},
   "outputs": [],
   "source": [
    "The datatype of None is \"NoneType\""
   ]
  },
  {
   "cell_type": "markdown",
   "id": "3935c876",
   "metadata": {},
   "source": [
    "11. What does the sentence import areallyourpetsnamederic do?"
   ]
  },
  {
   "cell_type": "code",
   "execution_count": null,
   "id": "066d1b76",
   "metadata": {},
   "outputs": [],
   "source": [
    "import keyword imports the module areallyourpetsnamederic. \n",
    "If the given is available then it imports else it will throw error.\n",
    "In python there is no inbuilt areallyourpetsnamederic named module.\n",
    "Will succesfully imports, if user create a areallyourpetsnamederic named module."
   ]
  },
  {
   "cell_type": "markdown",
   "id": "e4887b98",
   "metadata": {},
   "source": [
    "12. If you had a bacon() feature in a spam module, what would you call it after importing spam?"
   ]
  },
  {
   "cell_type": "code",
   "execution_count": null,
   "id": "71e8b33b",
   "metadata": {},
   "outputs": [],
   "source": [
    "spam.bacon()"
   ]
  },
  {
   "cell_type": "markdown",
   "id": "91bd9ecf",
   "metadata": {},
   "source": [
    "13. What can you do to save a programme from crashing if it encounters an error?"
   ]
  },
  {
   "cell_type": "code",
   "execution_count": null,
   "id": "dc804e09",
   "metadata": {},
   "outputs": [],
   "source": [
    "Exception handling is the solution to save program from crashing. \n",
    "Whenever a program encounters a error then the program results in abnormal termination. \n",
    "TO avoid the abnormal temnination - Expections are handled."
   ]
  },
  {
   "cell_type": "markdown",
   "id": "a5c6fb31",
   "metadata": {},
   "source": [
    "14. What is the purpose of the try clause? What is the purpose of the except clause?"
   ]
  },
  {
   "cell_type": "code",
   "execution_count": null,
   "id": "5ed7aa05",
   "metadata": {},
   "outputs": [],
   "source": [
    "Try and except clauses in exception handling are used to deal with abnormanl termination or program crash.\n",
    "\n",
    "try clause does contain the actual piece of code. If there is no any erorr then it leads normal program execution.\n",
    "except clause - If any error araises in the try clause (actual code) then those exceptions are handled in this clause.\n",
    "\n",
    "One try clause will have mutliple exception clauses."
   ]
  },
  {
   "cell_type": "code",
   "execution_count": null,
   "id": "a9bd388a",
   "metadata": {},
   "outputs": [],
   "source": []
  }
 ],
 "metadata": {
  "kernelspec": {
   "display_name": "Python 3 (ipykernel)",
   "language": "python",
   "name": "python3"
  },
  "language_info": {
   "codemirror_mode": {
    "name": "ipython",
    "version": 3
   },
   "file_extension": ".py",
   "mimetype": "text/x-python",
   "name": "python",
   "nbconvert_exporter": "python",
   "pygments_lexer": "ipython3",
   "version": "3.9.13"
  }
 },
 "nbformat": 4,
 "nbformat_minor": 5
}
