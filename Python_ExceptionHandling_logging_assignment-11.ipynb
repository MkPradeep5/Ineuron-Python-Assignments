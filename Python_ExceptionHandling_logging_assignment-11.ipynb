{
 "cells": [
  {
   "cell_type": "markdown",
   "id": "4bc4fce5",
   "metadata": {},
   "source": [
    "1. What is the role of the 'else' block in a try-except statement? Provide an example scenario where it would be useful."
   ]
  },
  {
   "cell_type": "code",
   "execution_count": null,
   "id": "9b5d8454",
   "metadata": {},
   "outputs": [],
   "source": [
    "Whenever exceptions are not raised in try-except block then immediately after the execution of try block the program flow \n",
    "goes to the else block."
   ]
  },
  {
   "cell_type": "code",
   "execution_count": 1,
   "id": "7c0df181",
   "metadata": {},
   "outputs": [
    {
     "name": "stdout",
     "output_type": "stream",
     "text": [
      "80 divided by 8 gives 10\n"
     ]
    }
   ],
   "source": [
    "def div(a,b):\n",
    "    try:\n",
    "        result = int(a / b)  # Inner try block for the division operation\n",
    "    except ZeroDivisionError:\n",
    "        print(\"Division by zero error \")\n",
    "    else:\n",
    "        print(f\"{a} divided by {b} gives {result}\")\n",
    "        \n",
    "div(80,8)"
   ]
  },
  {
   "cell_type": "markdown",
   "id": "11485fdc",
   "metadata": {},
   "source": [
    "2. Can a try-except block be nested inside another try-except block? Explain with an example."
   ]
  },
  {
   "cell_type": "code",
   "execution_count": 2,
   "id": "c12be8f4",
   "metadata": {},
   "outputs": [
    {
     "name": "stdout",
     "output_type": "stream",
     "text": [
      "Division by zero error in the inner try block\n",
      "Type error occurred in the outer try block\n",
      "3.0\n"
     ]
    }
   ],
   "source": [
    "def div(a, b):\n",
    "    try:\n",
    "        try:\n",
    "            result = a / b  # Inner try block for the division operation\n",
    "            print(result)\n",
    "        except ZeroDivisionError:\n",
    "            print(\"Division by zero error in the inner try block\")\n",
    "    except TypeError:\n",
    "        print(\"Type error occurred in the outer try block\")\n",
    "\n",
    "div(45,0)\n",
    "div([123,144], 5)\n",
    "div(90,30)"
   ]
  },
  {
   "cell_type": "markdown",
   "id": "4da08add",
   "metadata": {},
   "source": [
    "3. How can you create a custom exception class in Python? Provide an example that demonstrates its usage."
   ]
  },
  {
   "cell_type": "code",
   "execution_count": null,
   "id": "15945d25",
   "metadata": {},
   "outputs": [],
   "source": [
    "class NegativeError(Exception):\n",
    "    pass\n",
    "\n",
    "try:\n",
    "    x = -9\n",
    "    if x < 0:\n",
    "        raise NegativeError(f\"{x}, but should be postive number\")\n",
    "except NegativeError as e:\n",
    "    print(f\"x is: {e}\")    "
   ]
  },
  {
   "cell_type": "markdown",
   "id": "d107e969",
   "metadata": {},
   "source": [
    "4. What are some common exceptions that are built-in to Python"
   ]
  },
  {
   "cell_type": "code",
   "execution_count": null,
   "id": "d623e2ab",
   "metadata": {},
   "outputs": [],
   "source": [
    "The commom type build-in to python\n",
    "\n",
    "Arthmetic (ZerodivisionError, FloatpointError, OverflowError), \n",
    "Lookup (IndexError, KerError),\n",
    "OS Error(FilesnotfoundError, TimeoutError, PermissionError).\n",
    "TypeError,\n",
    "TabError,\n",
    "NameError"
   ]
  },
  {
   "cell_type": "markdown",
   "id": "543204f3",
   "metadata": {},
   "source": [
    "5. What is logging in Python, and why is it important in software development?"
   ]
  },
  {
   "cell_type": "code",
   "execution_count": null,
   "id": "a721022a",
   "metadata": {},
   "outputs": [],
   "source": [
    "The process of storing the complete application flow and exceptions information in to the file.\n",
    "Using logging, user will have a privilege to check the step-step in the program.\n",
    "Logging file helps in debuging the code when program encounters the issue."
   ]
  },
  {
   "cell_type": "markdown",
   "id": "7f066a2d",
   "metadata": {},
   "source": [
    "6. Explain the purpose of log levels in Python logging and provide examples of when each log level would be appropriate."
   ]
  },
  {
   "cell_type": "code",
   "execution_count": null,
   "id": "d54472db",
   "metadata": {},
   "outputs": [],
   "source": [
    "logging.debug()\n",
    "logging.info()\n",
    "logging.warning()\n",
    "logging.error()\n",
    "logging.critical()\n",
    "\n",
    "above are the 5 python logging levels used for knowing the severity or importance of logging message."
   ]
  },
  {
   "cell_type": "code",
   "execution_count": null,
   "id": "8b5d9ae5",
   "metadata": {},
   "outputs": [],
   "source": [
    "debug is used for detail information during developmental or debugginh. \n",
    "Typically used to display variable names, functions calls etc."
   ]
  },
  {
   "cell_type": "code",
   "execution_count": 15,
   "id": "e274f226",
   "metadata": {},
   "outputs": [
    {
     "name": "stderr",
     "output_type": "stream",
     "text": [
      "DEBUG:root:Values: x = 10\n"
     ]
    }
   ],
   "source": [
    "import logging\n",
    "logging.basicConfig(level=logging.debug)\n",
    "x = 10\n",
    "logging.debug(\"Values: x = %s\",x)"
   ]
  },
  {
   "cell_type": "code",
   "execution_count": null,
   "id": "dc696568",
   "metadata": {},
   "outputs": [],
   "source": [
    "info is about general application messages. Use it to confirm that things are working as expected."
   ]
  },
  {
   "cell_type": "code",
   "execution_count": 16,
   "id": "1970dfe6",
   "metadata": {},
   "outputs": [
    {
     "name": "stderr",
     "output_type": "stream",
     "text": [
      "INFO:root:Application started\n"
     ]
    }
   ],
   "source": [
    "import logging\n",
    "logging.basicConfig(level=logging.info)\n",
    "logging.info(\"Application started\")"
   ]
  },
  {
   "cell_type": "code",
   "execution_count": null,
   "id": "72a2e9c1",
   "metadata": {},
   "outputs": [],
   "source": [
    "Warning is raising potential issue which may not halt the program but essential to address."
   ]
  },
  {
   "cell_type": "code",
   "execution_count": 17,
   "id": "2c8111f8",
   "metadata": {},
   "outputs": [
    {
     "name": "stderr",
     "output_type": "stream",
     "text": [
      "WARNING:root:Local drive is running out of space\n"
     ]
    }
   ],
   "source": [
    "import logging\n",
    "logging.basicConfig(level=logging.warning)\n",
    "logging.warning(\"Local drive is running out of space\")"
   ]
  },
  {
   "cell_type": "code",
   "execution_count": null,
   "id": "2951922d",
   "metadata": {},
   "outputs": [],
   "source": [
    "Error are the serious issue caused might impact the program functionality, but program does not cause to crash."
   ]
  },
  {
   "cell_type": "code",
   "execution_count": 19,
   "id": "f9efc9ff",
   "metadata": {},
   "outputs": [
    {
     "name": "stderr",
     "output_type": "stream",
     "text": [
      "ERROR:root:Unable to connect to the data base\n"
     ]
    }
   ],
   "source": [
    "import logging\n",
    "logging.basicConfig(level=logging.error)\n",
    "logging.error(\"Unable to connect to the data base\")"
   ]
  },
  {
   "cell_type": "code",
   "execution_count": null,
   "id": "b150397c",
   "metadata": {},
   "outputs": [],
   "source": [
    "Critical issue might crash or terminate the program application result in severe consequences."
   ]
  },
  {
   "cell_type": "code",
   "execution_count": 20,
   "id": "20c9377e",
   "metadata": {},
   "outputs": [
    {
     "name": "stderr",
     "output_type": "stream",
     "text": [
      "CRITICAL:root:Server is down\n"
     ]
    }
   ],
   "source": [
    "import logging\n",
    "logging.basicConfig(level=logging.critical)\n",
    "logging.critical(\"Server is down\")"
   ]
  },
  {
   "cell_type": "markdown",
   "id": "5dd3184e",
   "metadata": {},
   "source": [
    "7. What are log formatters in Python logging, and how can you customise the log message format using formatters?"
   ]
  },
  {
   "cell_type": "code",
   "execution_count": null,
   "id": "537e0db8",
   "metadata": {},
   "outputs": [],
   "source": [
    "log foramtters are used to define structure and appearance of the log message.\n",
    "formatter = logging.formatter('%(asctime)s':%(levelname)s: :%(message)s, datefmt = '%y-%m-%d %H %M %S')\n",
    "handler.setFormatter(formatter)"
   ]
  },
  {
   "cell_type": "markdown",
   "id": "30bc07c9",
   "metadata": {},
   "source": [
    "8. How can you set up logging to capture log messages from multiple modules or classes in a Python application?"
   ]
  },
  {
   "cell_type": "code",
   "execution_count": null,
   "id": "fe01e06e",
   "metadata": {},
   "outputs": [],
   "source": [
    "1. Create a Centralized Logger\n",
    "2. Configure the Central Logger \n",
    "3. Get Loggers for Specific Modules or Classes (logging.getLogger(__name__) - using instance)\n",
    "4. Log Messages"
   ]
  },
  {
   "cell_type": "markdown",
   "id": "23a5edc4",
   "metadata": {},
   "source": [
    "9. What is the difference between the logging and print statements in Python? When should you use logging over print statements in a real-world application?"
   ]
  },
  {
   "cell_type": "code",
   "execution_count": null,
   "id": "037b2a0e",
   "metadata": {},
   "outputs": [],
   "source": [
    "Difference:\n",
    "Print statements are general gives output to console where as logging records series events and messages \n",
    "Logging messages are stored in different desinations(files,console, database) \n",
    "Logging statements as different levels of severity and as more formatting options including date, time and others.\n",
    "\n",
    "Using logging over print statements in a real-world application:\n",
    "1. To identify issues by recording the events\n",
    "2. categorize message based on severity\n",
    "3. Structured way of monitor and manage application behavior without user interface "
   ]
  },
  {
   "cell_type": "markdown",
   "id": "ed4db861",
   "metadata": {},
   "source": [
    "10. Write a Python program that logs a message to a file named \"app.log\" with the following requirements:\n",
    "● The log message should be \"Hello, World!\"\n",
    "● The log level should be set to \"INFO.\"\n",
    "● The log file should append new log entries without overwriting previous ones."
   ]
  },
  {
   "cell_type": "code",
   "execution_count": null,
   "id": "7be58908",
   "metadata": {},
   "outputs": [],
   "source": [
    "To ensure that the log file appends new log entries without overwriting previous ones, \n",
    "user can use the FileHandler instead of basicConfig."
   ]
  },
  {
   "cell_type": "code",
   "execution_count": 94,
   "id": "c06a1e67",
   "metadata": {},
   "outputs": [
    {
     "name": "stderr",
     "output_type": "stream",
     "text": [
      "INFO:root:Hello, World!\n"
     ]
    }
   ],
   "source": [
    "import logging\n",
    "\n",
    "# Create a logger\n",
    "logger = logging.getLogger()\n",
    "logger.setLevel(logging.INFO)\n",
    "\n",
    "# Create a file handler and set it to append mode\n",
    "file_handler = logging.FileHandler('app.log') \n",
    "file_handler.setLevel(logging.INFO)\n",
    "\n",
    "# Create a log formatter and set it for the file handler\n",
    "formatter = logging.Formatter('%(asctime)s - %(levelname)s - %(message)s')\n",
    "file_handler.setFormatter(formatter)\n",
    "\n",
    "# Add the file handler to the logger\n",
    "logger.addHandler(file_handler)\n",
    "\n",
    "# Log the message \"Hello, World!\" with log level INFO\n",
    "logger.info('Hello, World!')\n"
   ]
  },
  {
   "cell_type": "markdown",
   "id": "6dca30bd",
   "metadata": {},
   "source": [
    "11. Create a Python program that logs an error message to the console and a file named \"errors.log\" if an exception occurs during the program's execution. The errormessage should include the exception type and a timestamp."
   ]
  },
  {
   "cell_type": "code",
   "execution_count": 7,
   "id": "55fd1b3c",
   "metadata": {},
   "outputs": [],
   "source": [
    "import logging\n",
    "\n",
    "logger = logging.getLogger()\n",
    "logger.setLevel(logging.ERROR)\n",
    "\n",
    "file_handler = logging.FileHandler('testerrors.log')\n",
    "formatter = logging.Formatter('%(asctime)s : %(levelname)s : %(message)s', datefmt=\"%Y-%m-%d %H:%M:%S\")\n",
    "file_handler.setFormatter(formatter)\n",
    "\n",
    "logger.addHandler(file_handler)\n",
    "\n",
    "\n",
    "def div(a,b):\n",
    "    try:\n",
    "        return a / b\n",
    "    except Exception as E:\n",
    "        logger.error(f\"{E}: a is {a}, b value is {b}\" )\n",
    "        \n",
    "div(2,0)"
   ]
  },
  {
   "cell_type": "code",
   "execution_count": 5,
   "id": "ee627046",
   "metadata": {},
   "outputs": [],
   "source": [
    "#Mentor's code\n",
    "import logging\n",
    "import datetime\n",
    "\n",
    "def main():\n",
    "    # Configure logging to output to console and file\n",
    "    logging.basicConfig(\n",
    "        level=logging.ERROR,\n",
    "        format='%(asctime)s - %(levelname)s - %(message)s',\n",
    "        filename='errors.log'\n",
    "    )\n",
    "\n",
    "    try:\n",
    "        # Your main program logic here\n",
    "        result = 10 / 0  # This will raise an exception for demonstration purposes\n",
    "    except Exception as e:\n",
    "        # Log the exception with timestamp\n",
    "        timestamp = datetime.datetime.now().strftime(\"%Y-%m-%d %H:%M:%S\")\n",
    "        error_msg = f\"Exception type: {type(e).__name__}, Timestamp: {timestamp}\"\n",
    "        logging.error(error_msg, exc_info=True)\n",
    "\n",
    "if __name__ == \"__main__\":\n",
    "    main()"
   ]
  }
 ],
 "metadata": {
  "kernelspec": {
   "display_name": "Python 3 (ipykernel)",
   "language": "python",
   "name": "python3"
  },
  "language_info": {
   "codemirror_mode": {
    "name": "ipython",
    "version": 3
   },
   "file_extension": ".py",
   "mimetype": "text/x-python",
   "name": "python",
   "nbconvert_exporter": "python",
   "pygments_lexer": "ipython3",
   "version": "3.9.13"
  }
 },
 "nbformat": 4,
 "nbformat_minor": 5
}
