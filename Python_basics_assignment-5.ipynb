{
 "cells": [
  {
   "cell_type": "markdown",
   "id": "c0bd8209",
   "metadata": {},
   "source": [
    "1. What does an empty dictionary's code look like?"
   ]
  },
  {
   "cell_type": "code",
   "execution_count": null,
   "id": "0695b04c",
   "metadata": {},
   "outputs": [],
   "source": [
    "empty dictionary is decleared with empty curly braces {}. ex: dict_1 = {}"
   ]
  },
  {
   "cell_type": "markdown",
   "id": "4efcfd0f",
   "metadata": {},
   "source": [
    "2. What is the value of a dictionary value with the key 'foo' and the value 42?"
   ]
  },
  {
   "cell_type": "code",
   "execution_count": 3,
   "id": "36704fd7",
   "metadata": {},
   "outputs": [],
   "source": [
    "dict_1 = {\"foo\" : 42}\n",
    "\n",
    "the value of a dictionary value with the key 'foo' and the value 42 is: 42"
   ]
  },
  {
   "cell_type": "markdown",
   "id": "8da51900",
   "metadata": {},
   "source": [
    "3. What is the most significant distinction between a dictionary and a list?"
   ]
  },
  {
   "cell_type": "code",
   "execution_count": null,
   "id": "33a2c50d",
   "metadata": {},
   "outputs": [],
   "source": [
    "Dictionaries are unordered collection of Key-value pair. Dictonaries accessed through the keys and results values.\n",
    "\n",
    "\n",
    "Lists are stored in order and has indexing. Itmes in lists are access through their indexs."
   ]
  },
  {
   "cell_type": "markdown",
   "id": "1dffcf27",
   "metadata": {},
   "source": [
    "4. What happens if you try to access spam['foo'] if spam is {'bar': 100}?"
   ]
  },
  {
   "cell_type": "code",
   "execution_count": null,
   "id": "6ce888c6",
   "metadata": {},
   "outputs": [],
   "source": [
    "Key Error arises while trying access the key which is not in the dictionary.\n",
    "\n",
    "\"Foo\" is not avaiable in dictionary spam = {\"bar\":100}. Thus gives Key Error."
   ]
  },
  {
   "cell_type": "markdown",
   "id": "9da0d000",
   "metadata": {},
   "source": [
    "5. If a dictionary is stored in spam, what is the difference between the expressions 'cat' in spam and 'cat' in spam.keys()?"
   ]
  },
  {
   "cell_type": "code",
   "execution_count": null,
   "id": "4b195b27",
   "metadata": {},
   "outputs": [],
   "source": [
    "Both the expressions used to access the cat key in spam dictionary. Checks whether cat keyword is present or not. \n",
    "If \"cat\" is exists in spam dictionary then the result is true else false would be the output.\n",
    "\n",
    "In second approach, spam.keys() uses Keys() method over explicitly over the spam dictionary."
   ]
  },
  {
   "cell_type": "markdown",
   "id": "cbb13996",
   "metadata": {},
   "source": [
    "6. If a dictionary is stored in spam, what is the difference between the expressions 'cat' in spam and 'cat' in spam.values()?"
   ]
  },
  {
   "cell_type": "code",
   "execution_count": null,
   "id": "1a201ae4",
   "metadata": {},
   "outputs": [],
   "source": [
    "expression \"cat\" in spam searchs for the \"cat\" named key in the dictionary. \n",
    "\n",
    "expression 'cat' in spam.values() searchs for the \"cat\" named values in the dictionary. value() method is explicitly to find\n",
    "        whether cat named value exists in the dictionary or not."
   ]
  },
  {
   "cell_type": "markdown",
   "id": "b0ec1539",
   "metadata": {},
   "source": [
    "7. What is a shortcut for the following code?\n",
    "if 'color' not in spam:\n",
    "spam['color'] = 'black'"
   ]
  },
  {
   "cell_type": "code",
   "execution_count": null,
   "id": "a5b82628",
   "metadata": {},
   "outputs": [],
   "source": [
    "spam.setdefault('color', 'black')\n",
    "setdefault() method provides a shortcut for setting a default value \n",
    "    if the specified key is not already present in the dictionary."
   ]
  },
  {
   "cell_type": "markdown",
   "id": "6bf54a2a",
   "metadata": {},
   "source": [
    "8. How do you \"pretty print\" dictionary values using which module and function?"
   ]
  },
  {
   "cell_type": "code",
   "execution_count": null,
   "id": "fb41d5e0",
   "metadata": {},
   "outputs": [],
   "source": [
    "importing pprint module and from pprint() function.\n",
    "\n",
    "\"\"\"\n",
    "import pprint\n",
    "\n",
    "my_dict = {}\n",
    "\n",
    "pprint.pprint(my_dict)\n",
    "\n",
    "\"\"\""
   ]
  },
  {
   "cell_type": "code",
   "execution_count": null,
   "id": "eef4fc17",
   "metadata": {},
   "outputs": [],
   "source": []
  }
 ],
 "metadata": {
  "kernelspec": {
   "display_name": "Python 3 (ipykernel)",
   "language": "python",
   "name": "python3"
  },
  "language_info": {
   "codemirror_mode": {
    "name": "ipython",
    "version": 3
   },
   "file_extension": ".py",
   "mimetype": "text/x-python",
   "name": "python",
   "nbconvert_exporter": "python",
   "pygments_lexer": "ipython3",
   "version": "3.9.13"
  }
 },
 "nbformat": 4,
 "nbformat_minor": 5
}
