{
 "cells": [
  {
   "cell_type": "markdown",
   "id": "153989ff",
   "metadata": {},
   "source": [
    "1. What is a lambda function in Python, and how does it differ from a regular function?"
   ]
  },
  {
   "cell_type": "code",
   "execution_count": null,
   "id": "1b8fd8f8",
   "metadata": {},
   "outputs": [],
   "source": [
    "Lambda function is anonymous function in python and is a single line function.\n",
    "Lambda function always takes arguments and gives single result after operations.\n",
    "\n",
    "Lambda function is not defined like regular function syntax. For defining lambda function keyword lambda is used."
   ]
  },
  {
   "cell_type": "markdown",
   "id": "4dc665df",
   "metadata": {},
   "source": [
    "2. Can a lambda function in Python have multiple arguments? If yes, how can you define and use them?"
   ]
  },
  {
   "cell_type": "code",
   "execution_count": 3,
   "id": "911ae40f",
   "metadata": {},
   "outputs": [
    {
     "data": {
      "text/plain": [
       "8"
      ]
     },
     "execution_count": 3,
     "metadata": {},
     "output_type": "execute_result"
    }
   ],
   "source": [
    "# Yes, Lambda function can have multiple arguments in python.\n",
    "\n",
    "product = lambda x,y : x * y # x,y before column(:) are arguments and after column(:) is the expression giving the ouput\n",
    "product(2,4) # calls the product lambda function"
   ]
  },
  {
   "cell_type": "markdown",
   "id": "110f389e",
   "metadata": {},
   "source": [
    "3. How are lambda functions typically used in Python? Provide an example use case."
   ]
  },
  {
   "cell_type": "code",
   "execution_count": null,
   "id": "21e02872",
   "metadata": {},
   "outputs": [],
   "source": [
    "Lambda function is typically used with map(), reduce(), sorted() and filter() methods."
   ]
  },
  {
   "cell_type": "code",
   "execution_count": 3,
   "id": "a8c88335",
   "metadata": {},
   "outputs": [
    {
     "name": "stdout",
     "output_type": "stream",
     "text": [
      "Filter method with lambda function: [98, 57, 89, 83, 65]\n"
     ]
    }
   ],
   "source": [
    "my_list = [5,23,98,12,34,57,89,83,65]\n",
    "\n",
    "my_listgt50 = list(filter(lambda x : x > 50, my_list))\n",
    "print(\"Filter method with lambda function:\", my_listgt50)"
   ]
  },
  {
   "cell_type": "code",
   "execution_count": 2,
   "id": "76ae732c",
   "metadata": {},
   "outputs": [
    {
     "name": "stdout",
     "output_type": "stream",
     "text": [
      "Map method with lambda function: [205, 223, 298, 212, 234, 257, 289, 283, 265]\n"
     ]
    }
   ],
   "source": [
    "my_list = [5,23,98,12,34,57,89,83,65]\n",
    "\n",
    "my_list_add200 = list(map(lambda x : x + 200, my_list))\n",
    "print(\"Map method with lambda function:\", my_list_add200)"
   ]
  },
  {
   "cell_type": "code",
   "execution_count": 9,
   "id": "659cc736",
   "metadata": {},
   "outputs": [
    {
     "name": "stdout",
     "output_type": "stream",
     "text": [
      "Sorted method with lambda function: [5, 12, 23, 34, 57, 65, 83, 89, 98]\n"
     ]
    }
   ],
   "source": [
    "my_list = [5,23,98,12,34,57,89,83,65]\n",
    "\n",
    "my_list_sort = sorted(my_list, key = lambda x : x)\n",
    "print(\"Sorted method with lambda function:\", my_list_sort)"
   ]
  },
  {
   "cell_type": "markdown",
   "id": "5a44e461",
   "metadata": {},
   "source": [
    "4. What are the advantages and limitations of lambda functions compared to regular functions in Python?"
   ]
  },
  {
   "cell_type": "code",
   "execution_count": null,
   "id": "363441d6",
   "metadata": {},
   "outputs": [],
   "source": [
    "Lambda is the single line function. It is helpful in performing simple expresions. Used with map(), filter(), and sorted().\n",
    "Lambda function is an anonymous function, doesnot require defining. \n",
    "\n",
    "It can not be used in complex function. Can not have multiple statments or expressions."
   ]
  },
  {
   "cell_type": "markdown",
   "id": "fffccf4f",
   "metadata": {},
   "source": [
    "5. Are lambda functions in Python able to access variables defined outside of their own scope? Explain with an example."
   ]
  },
  {
   "cell_type": "code",
   "execution_count": null,
   "id": "27be1b3f",
   "metadata": {},
   "outputs": [],
   "source": [
    "Yes, Lambda function can access the variables."
   ]
  },
  {
   "cell_type": "code",
   "execution_count": 75,
   "id": "72d94ec3",
   "metadata": {},
   "outputs": [
    {
     "data": {
      "text/plain": [
       "70"
      ]
     },
     "execution_count": 75,
     "metadata": {},
     "output_type": "execute_result"
    }
   ],
   "source": [
    "# Example\n",
    "correction = 18\n",
    "\n",
    "marks_correction = lambda x : x + correction\n",
    "\n",
    "marks_correction (52)"
   ]
  },
  {
   "cell_type": "markdown",
   "id": "4d8ac437",
   "metadata": {},
   "source": [
    "6. Write a lambda function to calculate the square of a given number."
   ]
  },
  {
   "cell_type": "code",
   "execution_count": 13,
   "id": "5679b4c6",
   "metadata": {},
   "outputs": [
    {
     "data": {
      "text/plain": [
       "81"
      ]
     },
     "execution_count": 13,
     "metadata": {},
     "output_type": "execute_result"
    }
   ],
   "source": [
    "square_number= lambda x: x**2\n",
    "square_number(9)"
   ]
  },
  {
   "cell_type": "markdown",
   "id": "8bb6aa31",
   "metadata": {},
   "source": [
    "7. Create a lambda function to find the maximum value in a list of integers."
   ]
  },
  {
   "cell_type": "code",
   "execution_count": 1,
   "id": "1e6682e0",
   "metadata": {},
   "outputs": [
    {
     "name": "stdout",
     "output_type": "stream",
     "text": [
      "Max value with lambda function in the list is: 123\n"
     ]
    }
   ],
   "source": [
    "my_list = [5,23,98,12,34,57,89,123,83,65]\n",
    "\n",
    "my_list_sort = sorted(my_list, key = lambda x : x, reverse = True)\n",
    "print(\"Max value with lambda function in the list is:\", my_list_sort[0])"
   ]
  },
  {
   "cell_type": "markdown",
   "id": "308b3bc7",
   "metadata": {},
   "source": [
    "8. Implement a lambda function to filter out all the even numbers from a list of integers."
   ]
  },
  {
   "cell_type": "code",
   "execution_count": 4,
   "id": "cccc60c1",
   "metadata": {},
   "outputs": [
    {
     "name": "stdout",
     "output_type": "stream",
     "text": [
      "Sorted method with lambda function: [98, 12, 34]\n"
     ]
    }
   ],
   "source": [
    "my_list = [5,23,98,12,34,57,89,83,65]\n",
    "\n",
    "my_list_even = list(filter(lambda x : x %2 == 0 , my_list))\n",
    "print(\"Sorted method with lambda function:\", my_list_even)"
   ]
  },
  {
   "cell_type": "markdown",
   "id": "92a971c7",
   "metadata": {},
   "source": [
    "9. Write a lambda function to sort a list of strings in ascending order based on the length of each string."
   ]
  },
  {
   "cell_type": "code",
   "execution_count": 38,
   "id": "e304029c",
   "metadata": {},
   "outputs": [
    {
     "name": "stdout",
     "output_type": "stream",
     "text": [
      "Sorted based on length with lambda function: ['hp', 'dell', 'asus', 'apple', 'lenovo', 'xiaomi']\n"
     ]
    }
   ],
   "source": [
    "brand_list = [\"dell\",\"lenovo\",\"asus\",\"hp\",\"apple\",\"xiaomi\"]\n",
    "\n",
    "sort_brandlist = sorted(brand_list,key=lambda x:len(x))\n",
    "\n",
    "print(\"Sorted based on length with lambda function:\", sort_brandlist)"
   ]
  },
  {
   "cell_type": "markdown",
   "id": "ead180f9",
   "metadata": {},
   "source": [
    "10. Create a lambda function that takes two lists as input and returns a new list containing the common elements between the two lists."
   ]
  },
  {
   "cell_type": "code",
   "execution_count": 88,
   "id": "65d5e026",
   "metadata": {},
   "outputs": [
    {
     "name": "stdout",
     "output_type": "stream",
     "text": [
      "[65, 98, 5, 89, 57]\n"
     ]
    }
   ],
   "source": [
    "# converting lists to sets and then applied set operators\n",
    "my_list1 = [5,23,98,12,34,57,89,83,65]\n",
    "my_list2 = [5,43,98,14,24,57,89,82,65]\n",
    "\n",
    "new_list = lambda my_list1, my_list2: list(set(my_list2) & set(my_list1))\n",
    "result = new_list(my_list1,my_list2)\n",
    "print(result)"
   ]
  },
  {
   "cell_type": "code",
   "execution_count": 94,
   "id": "c811b027",
   "metadata": {},
   "outputs": [
    {
     "data": {
      "text/plain": [
       "[5, 98, 57, 89, 65]"
      ]
     },
     "execution_count": 94,
     "metadata": {},
     "output_type": "execute_result"
    }
   ],
   "source": [
    "# Lambda function with list compherension\n",
    "\n",
    "my_list1 = [5,23,98,12,34,57,89,83,65]\n",
    "my_list2 = [5,43,98,14,24,57,89,82,65]\n",
    "\n",
    "common_list = lambda my_list1,my_list2: [x for x in my_list1 if x in my_list2]\n",
    "common_list(my_list1,my_list2)"
   ]
  },
  {
   "cell_type": "code",
   "execution_count": 38,
   "id": "6fc4507e",
   "metadata": {},
   "outputs": [
    {
     "name": "stdout",
     "output_type": "stream",
     "text": [
      "[5, 98, 57, 89, 65]\n"
     ]
    }
   ],
   "source": [
    "# without using lambda function - Used for loop and if condition to check the common existence and added to the new list \n",
    "my_list1 = [5,23,98,12,34,57,89,83,65]\n",
    "my_list2 = [5,43,98,14,24,57,89,82,65]\n",
    "new_list = []\n",
    "for i in range(len(my_list1)):\n",
    "    if my_list1[i] in my_list2:\n",
    "        new_list.append(my_list1[i])\n",
    "        \n",
    "print(new_list)"
   ]
  },
  {
   "cell_type": "markdown",
   "id": "d37b9381",
   "metadata": {},
   "source": [
    "11. Write a recursive function to calculate the factorial of a given positive integer."
   ]
  },
  {
   "cell_type": "code",
   "execution_count": 2,
   "id": "a8874a89",
   "metadata": {},
   "outputs": [
    {
     "data": {
      "text/plain": [
       "362880"
      ]
     },
     "execution_count": 2,
     "metadata": {},
     "output_type": "execute_result"
    }
   ],
   "source": [
    "def fact(n):\n",
    "    if n < 2:\n",
    "        return 1\n",
    "    else:\n",
    "        result = n * fact(n-1)\n",
    "        return result\n",
    "fact(9)"
   ]
  },
  {
   "cell_type": "markdown",
   "id": "9bb95a0c",
   "metadata": {},
   "source": [
    "12. Implement a recursive function to compute the nth Fibonacci number."
   ]
  },
  {
   "cell_type": "code",
   "execution_count": null,
   "id": "e1ea11cb",
   "metadata": {},
   "outputs": [],
   "source": [
    "1 1 2 3 5 8 13 21\n",
    "\n",
    "f1=1,f2=1,f3=2,f4=3,f5=5,f6=8,f7=13,f8=21,f9=34,f10=55,f11=89,f12=144"
   ]
  },
  {
   "cell_type": "code",
   "execution_count": 34,
   "id": "71bc94f3",
   "metadata": {},
   "outputs": [
    {
     "data": {
      "text/plain": [
       "34"
      ]
     },
     "execution_count": 34,
     "metadata": {},
     "output_type": "execute_result"
    }
   ],
   "source": [
    "def fib(n):\n",
    "    if n == 0:\n",
    "        return 0\n",
    "    elif n == 1:\n",
    "        return 1\n",
    "    else:\n",
    "        result = fib(n-1) + fib(n-2)\n",
    "        return result\n",
    "fib(9)    "
   ]
  },
  {
   "cell_type": "markdown",
   "id": "2687063f",
   "metadata": {},
   "source": [
    "13. Create a recursive function to find the sum of all the elements in a given list."
   ]
  },
  {
   "cell_type": "code",
   "execution_count": 24,
   "id": "2f80a29a",
   "metadata": {},
   "outputs": [
    {
     "data": {
      "text/plain": [
       "644"
      ]
     },
     "execution_count": 24,
     "metadata": {},
     "output_type": "execute_result"
    }
   ],
   "source": [
    "def sum_list(list1,n=0):\n",
    "    if n < (len(list1)-1):\n",
    "        result = list1[n] + sum_list(list1, (n+1))\n",
    "        return result\n",
    "    else:\n",
    "        return list1[n]\n",
    "    \n",
    "\n",
    "my_list = [5,23,98,12,34,57,89,83,65,78,100]\n",
    "sum_list(my_list)"
   ]
  },
  {
   "cell_type": "markdown",
   "id": "349b0b66",
   "metadata": {},
   "source": [
    "14. Write a recursive function to determine whether a given string is a palindrome."
   ]
  },
  {
   "cell_type": "code",
   "execution_count": 56,
   "id": "9b2780f4",
   "metadata": {},
   "outputs": [
    {
     "name": "stdout",
     "output_type": "stream",
     "text": [
      "Not a Palindrome\n"
     ]
    }
   ],
   "source": [
    "# Using Recursive method \n",
    "def palin(a):\n",
    "    if len(a) <= 1:  \n",
    "        return \"True! Given string is palindrome\"\n",
    "    elif a[0] == a[-1]: \n",
    "        return palin(a[1:-1])\n",
    "    else:\n",
    "        return \"Not a Palindrome\"\n",
    "\n",
    "result = palin(\"12341\")\n",
    "print(result)\n"
   ]
  },
  {
   "cell_type": "code",
   "execution_count": 107,
   "id": "41be9e9b",
   "metadata": {},
   "outputs": [
    {
     "data": {
      "text/plain": [
       "'Given string is not a palindrome'"
      ]
     },
     "execution_count": 107,
     "metadata": {},
     "output_type": "execute_result"
    }
   ],
   "source": [
    "def palindrome(a):\n",
    "    a = a.lower()\n",
    "    a = \"\".join(x for x in a if x.isalnum())\n",
    "    if len(a) % 2 == 0:\n",
    "        return \"Given string is not a palindrome\"\n",
    "    else:\n",
    "        mid = int(len(a)/2)\n",
    "        reverse_string = a[-1:mid:-1]\n",
    "        if reverse_string == a[0:mid]:\n",
    "            return f\"Yes! {a} is palindrome\"\n",
    "        else:\n",
    "            return f\"No, {a} is a normal string\"       \n",
    "     \n",
    "palindrome(\"Malayalam\")"
   ]
  },
  {
   "cell_type": "markdown",
   "id": "b9e2afd3",
   "metadata": {},
   "source": [
    "15. Implement a recursive function to find the greatest common divisor (GCD) of two positive integers."
   ]
  },
  {
   "cell_type": "code",
   "execution_count": 108,
   "id": "c39a63a9",
   "metadata": {},
   "outputs": [
    {
     "data": {
      "text/plain": [
       "'6 is the greatest common divisor (GCD)'"
      ]
     },
     "execution_count": 108,
     "metadata": {},
     "output_type": "execute_result"
    }
   ],
   "source": [
    "def gcd(a,b):\n",
    "    if b>a:\n",
    "        a,b=b,a\n",
    "    if a % b == 0:\n",
    "        return f\"{b} is the greatest common divisor (GCD)\"\n",
    "    else: \n",
    "        c = a % b\n",
    "        return gcd(b,c)\n",
    "      \n",
    "    \n",
    "gcd(24,30)"
   ]
  }
 ],
 "metadata": {
  "kernelspec": {
   "display_name": "Python 3 (ipykernel)",
   "language": "python",
   "name": "python3"
  },
  "language_info": {
   "codemirror_mode": {
    "name": "ipython",
    "version": 3
   },
   "file_extension": ".py",
   "mimetype": "text/x-python",
   "name": "python",
   "nbconvert_exporter": "python",
   "pygments_lexer": "ipython3",
   "version": "3.9.13"
  }
 },
 "nbformat": 4,
 "nbformat_minor": 5
}
