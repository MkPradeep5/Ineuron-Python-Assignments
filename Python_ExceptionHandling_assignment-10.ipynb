{
 "cells": [
  {
   "cell_type": "markdown",
   "id": "5c6c2f0f",
   "metadata": {},
   "source": [
    "1. What is the role of try and exception block?"
   ]
  },
  {
   "cell_type": "code",
   "execution_count": null,
   "id": "49e61b18",
   "metadata": {},
   "outputs": [],
   "source": [
    "Their role is to execute the code and handle the exceptions. Both blocks will help in normal execution of the program \n",
    "avoding abnormal exits."
   ]
  },
  {
   "cell_type": "markdown",
   "id": "39d47dbd",
   "metadata": {},
   "source": [
    "2. What is the syntax for a basic try-except block?"
   ]
  },
  {
   "cell_type": "code",
   "execution_count": null,
   "id": "d045c35a",
   "metadata": {},
   "outputs": [],
   "source": [
    "# Basic syntax: try block is followed by except block.\n",
    "    \n",
    "try:\n",
    "    #statement1\n",
    "    #statement2\n",
    "    \n",
    "except:\n",
    "    #statement3\n",
    "    #statement4"
   ]
  },
  {
   "cell_type": "markdown",
   "id": "d99045c6",
   "metadata": {},
   "source": [
    "3. What happens if an exception occurs inside a try block and there is no matching except block?"
   ]
  },
  {
   "cell_type": "code",
   "execution_count": null,
   "id": "d0271c8e",
   "metadata": {},
   "outputs": [],
   "source": [
    "When there is no matching except the block then the function fails to handle the error and leads the abnormal exit by giving\n",
    "an error."
   ]
  },
  {
   "cell_type": "markdown",
   "id": "d84f91ea",
   "metadata": {},
   "source": [
    "4. What is the difference between using a bare except block and specifying a specific exception type?"
   ]
  },
  {
   "cell_type": "code",
   "execution_count": null,
   "id": "89a7825f",
   "metadata": {},
   "outputs": [],
   "source": [
    "specific except block will handle the error related to that specific exception and where as bare except will by default\n",
    "handle all kind of exception raised in the try block.   "
   ]
  },
  {
   "cell_type": "markdown",
   "id": "67193435",
   "metadata": {},
   "source": [
    "5. Can you have nested try-except blocks in Python? If yes, then give an example."
   ]
  },
  {
   "cell_type": "code",
   "execution_count": null,
   "id": "8945a6c7",
   "metadata": {},
   "outputs": [],
   "source": [
    "yes, user can have nested try-except block."
   ]
  },
  {
   "cell_type": "code",
   "execution_count": 80,
   "id": "c2b03d83",
   "metadata": {},
   "outputs": [
    {
     "name": "stdout",
     "output_type": "stream",
     "text": [
      "Division by zero error in the inner try block\n",
      "Type error occurred in the outer try block\n"
     ]
    }
   ],
   "source": [
    "def div(a, b):\n",
    "    try:\n",
    "        try:\n",
    "            result = a / b  # Inner try block for the division operation\n",
    "            print(result)\n",
    "        except ZeroDivisionError:\n",
    "            print(\"Division by zero error in the inner try block\")\n",
    "    except TypeError:\n",
    "        print(\"Type error occurred in the outer try block\")\n",
    "\n",
    "div(45,0)\n",
    "div([123,144], 5)\n",
    "div(90,30)"
   ]
  },
  {
   "cell_type": "markdown",
   "id": "7cf850ec",
   "metadata": {},
   "source": [
    "6. Can we use multiple exception blocks, if yes then give an example."
   ]
  },
  {
   "cell_type": "code",
   "execution_count": 44,
   "id": "3bd18992",
   "metadata": {},
   "outputs": [
    {
     "name": "stdout",
     "output_type": "stream",
     "text": [
      "Division by zero error in the inner try block\n",
      "Type error occurred in the outer try block\n",
      "Other error: integer division result too large for a float\n",
      "3.0\n"
     ]
    }
   ],
   "source": [
    "def div(a, b):\n",
    "    try:\n",
    "        result = a / b\n",
    "        print(result)            \n",
    "    except ZeroDivisionError:\n",
    "        print(\"Division by zero error in the inner try block\")\n",
    "    except TypeError:\n",
    "        print(\"Type error occurred in the outer try block\")\n",
    "    except Exception as e:\n",
    "        print(f\"Other error: {e}\")\n",
    "\n",
    "div(45,0) #--> divides by zero gives raise to zero divison error\n",
    "div([123,144], 5) #--> List and int are of different data types\n",
    "div(10**1000,6)\n",
    "div(90,30)"
   ]
  },
  {
   "cell_type": "markdown",
   "id": "6f2d885d",
   "metadata": {},
   "source": [
    "7. Write the reason due to which following errors are raised:\n",
    "a. EOFError\n",
    "b. FloatingPointError\n",
    "c. IndexError\n",
    "d. MemoryError\n",
    "e. OverflowError\n",
    "f. TabError\n",
    "g. ValueError"
   ]
  },
  {
   "cell_type": "code",
   "execution_count": null,
   "id": "a7aa1173",
   "metadata": {},
   "outputs": [],
   "source": [
    "a. EOFError: Raised when the input() function hits an end-of-file condition without reading any data. \n",
    "    This occurs when there is an unexpected end of input stream while the interpreter is expecting interactive input.\n",
    "\n",
    "b. FloatingPointError: Raised when a floating-point operation fails. For example, this error occurs when \n",
    "        an operation that should return a finite floating-point number overflows or underflows.\n",
    "\n",
    "c. IndexError: Raised when trying to access an index in a sequence (such as a list, tuple, or string) \n",
    "        that does not exist. It occurs when the index used to access an element is out of range.\n",
    "\n",
    "d. MemoryError: Raised when an operation runs out of memory, indicating that the Python interpreter cannot \n",
    "        allocate enough memory to perform an operation.\n",
    "\n",
    "e. OverflowError: Raised when a numerical operation exceeds the limits of the data type used in the operation, \n",
    "        resulting in a value too large to be represented.\n",
    "\n",
    "f. TabError: Raised when indentation contains inconsistent tabs and spaces in the source code. \n",
    "\n",
    "g. ValueError: Raised when a function receives an argument of correct type but with an inappropriate value. \n",
    "        For instance, attempting to convert a string to an integer when the string does not represent a valid integer.\n"
   ]
  },
  {
   "cell_type": "markdown",
   "id": "aeb4e4e2",
   "metadata": {},
   "source": [
    "8. Write code for the following given scenario and add try-exception block to it.\n",
    "a. Program to divide two numbers\n",
    "b. Program to convert a string to an integer\n",
    "c. Program to access an element in a list\n",
    "d. Program to handle a specific exception\n",
    "e. Program to handle any exception"
   ]
  },
  {
   "cell_type": "code",
   "execution_count": null,
   "id": "c168a604",
   "metadata": {},
   "outputs": [],
   "source": [
    "a. Program to divide two numbers"
   ]
  },
  {
   "cell_type": "code",
   "execution_count": 10,
   "id": "50714ba9",
   "metadata": {},
   "outputs": [
    {
     "name": "stdout",
     "output_type": "stream",
     "text": [
      "Division by zero error in the inner try block\n",
      "Type error occurred in the outer try block\n",
      "80 divided by 5 gives: 16.0\n"
     ]
    }
   ],
   "source": [
    "def div(a, b):\n",
    "    try:\n",
    "        result = a / b\n",
    "        print(f\"{a} divided by {b} gives: {result}\")            \n",
    "    except ZeroDivisionError:\n",
    "        print(\"Division by zero error in the inner try block\")\n",
    "    except TypeError:\n",
    "        print(\"Type error occurred in the outer try block\")\n",
    "    except:\n",
    "        print(\"Other errors\")\n",
    "\n",
    "div(45,0) #--> divides by zero gives raise to zero divison error\n",
    "div([123,144], 5) #--> List and int are of different data types, thus leads to typeerror\n",
    "div(80,5)"
   ]
  },
  {
   "cell_type": "code",
   "execution_count": null,
   "id": "227dce89",
   "metadata": {},
   "outputs": [],
   "source": [
    "b. Program to convert a string to an integer"
   ]
  },
  {
   "cell_type": "code",
   "execution_count": 3,
   "id": "4b15f3ab",
   "metadata": {},
   "outputs": [
    {
     "name": "stdout",
     "output_type": "stream",
     "text": [
      "Raises Value error: As string can't be converted to integer\n"
     ]
    }
   ],
   "source": [
    "try:\n",
    "    s = \"abc123\" # string\n",
    "    b = int(s)\n",
    "    print(b)\n",
    "except ValueError:\n",
    "    print(\"Raises Value error: As string can't be converted to integer\")    "
   ]
  },
  {
   "cell_type": "code",
   "execution_count": null,
   "id": "0637847e",
   "metadata": {},
   "outputs": [],
   "source": [
    "c. Program to access an element in a list"
   ]
  },
  {
   "cell_type": "code",
   "execution_count": 32,
   "id": "3658f25e",
   "metadata": {},
   "outputs": [
    {
     "name": "stdout",
     "output_type": "stream",
     "text": [
      "Raises Index Error: Index is out of range\n"
     ]
    }
   ],
   "source": [
    "try:\n",
    "    my_list = [11,42,65,74]\n",
    "    print(my_list[9])\n",
    "except IndexError:\n",
    "    print(\"Raises Index Error: Index is out of range\")"
   ]
  },
  {
   "cell_type": "code",
   "execution_count": null,
   "id": "35a06c69",
   "metadata": {},
   "outputs": [],
   "source": [
    "d. Program to handle a specific exception"
   ]
  },
  {
   "cell_type": "code",
   "execution_count": 30,
   "id": "93814b47",
   "metadata": {},
   "outputs": [
    {
     "name": "stdout",
     "output_type": "stream",
     "text": [
      "x is: -9, but should be postive number\n"
     ]
    }
   ],
   "source": [
    "class NegativeError(Exception):\n",
    "    pass\n",
    "\n",
    "try:\n",
    "    x = -9\n",
    "    if x < 0:\n",
    "        raise NegativeError(f\"{x}, but should be postive number\")\n",
    "except NegativeError as e:\n",
    "    print(f\"x is: {e}\")    "
   ]
  },
  {
   "cell_type": "code",
   "execution_count": null,
   "id": "8f428522",
   "metadata": {},
   "outputs": [],
   "source": [
    "e. Program to handle any exception"
   ]
  },
  {
   "cell_type": "code",
   "execution_count": 33,
   "id": "c25154cb",
   "metadata": {},
   "outputs": [
    {
     "name": "stdout",
     "output_type": "stream",
     "text": [
      " Raises Error: invalid literal for int() with base 10: 'abc'\n"
     ]
    }
   ],
   "source": [
    "try:\n",
    "    x = int(\"abc\")  # ValueError due to invalid conversion\n",
    "    print(x)\n",
    "except Exception as e:\n",
    "    print(f\" Raises Error: {e}\")\n"
   ]
  }
 ],
 "metadata": {
  "kernelspec": {
   "display_name": "Python 3 (ipykernel)",
   "language": "python",
   "name": "python3"
  },
  "language_info": {
   "codemirror_mode": {
    "name": "ipython",
    "version": 3
   },
   "file_extension": ".py",
   "mimetype": "text/x-python",
   "name": "python",
   "nbconvert_exporter": "python",
   "pygments_lexer": "ipython3",
   "version": "3.9.13"
  }
 },
 "nbformat": 4,
 "nbformat_minor": 5
}
