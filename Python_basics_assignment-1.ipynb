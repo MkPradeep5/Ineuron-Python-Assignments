{
 "cells": [
  {
   "cell_type": "markdown",
   "id": "17b870ff",
   "metadata": {},
   "source": [
    "1. In the below elements which of them are values or an expression? eg:- values can be\n",
    "integer or string and expressions will be mathematical operators.\n",
    "*\n",
    "'hello'\n",
    "-87.8\n",
    "-\n",
    "/\n",
    "+\n",
    "6"
   ]
  },
  {
   "cell_type": "code",
   "execution_count": null,
   "id": "b8b27129",
   "metadata": {},
   "outputs": [],
   "source": [
    "1. ANS\n",
    "\n",
    "Values - Values are like a letter or a number or the result of expression. \n",
    "\n",
    "(-87.8, 6, \"hello\")\n",
    "\n",
    "Expressions - Combination of values, variables, operators, and calls to functions. \n",
    "                Expressions need to be evaluated. Expressions are performed over multiple values. \n",
    "\n",
    "(*,-,/,+)"
   ]
  },
  {
   "cell_type": "markdown",
   "id": "c8f82fcf",
   "metadata": {},
   "source": [
    "2. What is the difference between string and variable?"
   ]
  },
  {
   "cell_type": "code",
   "execution_count": null,
   "id": "0cd4455e",
   "metadata": {},
   "outputs": [],
   "source": [
    "Strings: Strings are the data types in pyhton. They are collection of characters and denoted between either single or double\n",
    "         quotes.\n",
    "    \n",
    "Variable: A variable is a name used to store data or assign a value. It can begin with a letter (uppercase or lowercase) \n",
    "       or an underscore (_)  [a-z,A-Z,_], followed by letters, digits (0-9). The first character cannot be a digit.\n"
   ]
  },
  {
   "cell_type": "markdown",
   "id": "14a6bb93",
   "metadata": {},
   "source": [
    "3. Describe three different data types."
   ]
  },
  {
   "cell_type": "code",
   "execution_count": null,
   "id": "0235d563",
   "metadata": {},
   "outputs": [],
   "source": [
    "Three different datatypes are:\n",
    "    1. int - Integers represent whole numbers, both positive and negative, without any decimal points. \n",
    "    2. float - Floats represent real numbers with a decimal point. They can represent fractional values.\n",
    "    \n",
    "    3. str - Strings represent sequences of characters, such as letters, digits, symbols, and spaces. \n",
    "                They are enclosed in single (' ') or double (\" \") quotes."
   ]
  },
  {
   "cell_type": "markdown",
   "id": "727b8910",
   "metadata": {},
   "source": [
    "4. What is an expression made up of? What do all expressions do?"
   ]
  },
  {
   "cell_type": "code",
   "execution_count": null,
   "id": "837fb190",
   "metadata": {},
   "outputs": [],
   "source": [
    "Expressions are made up of variables, values, operators. Expressions do evaluate and gives values or boolen value"
   ]
  },
  {
   "cell_type": "markdown",
   "id": "f4599bff",
   "metadata": {},
   "source": [
    "5. This assignment statements, like spam = 10. What is the difference between an\n",
    "expression and a statement?"
   ]
  },
  {
   "cell_type": "code",
   "execution_count": null,
   "id": "7d5491dd",
   "metadata": {},
   "outputs": [],
   "source": [
    "Expression: An expression is a combination of variables, constants, and operators that results in a single value. \n",
    "    It represents something computable and evaluates to a value.\n",
    "    Expression are evaluated and gives the proper output either in the form value or boolean value.\n",
    "\n",
    "statement: statement is a complete instruction that performs some action. It might not necessarily produce a value.\n",
    "     "
   ]
  },
  {
   "cell_type": "markdown",
   "id": "247e0102",
   "metadata": {},
   "source": [
    "6. After running the following code, what does the variable bacon contain?\n",
    "bacon = 22\n",
    "bacon + 1"
   ]
  },
  {
   "cell_type": "code",
   "execution_count": null,
   "id": "f205b956",
   "metadata": {},
   "outputs": [],
   "source": [
    "Bacon is incremented to 23 from intial assigned 22."
   ]
  },
  {
   "cell_type": "markdown",
   "id": "ab4136ed",
   "metadata": {},
   "source": [
    "7. What should the values of the following two terms be?\n",
    "'spam'+ 'spamspam'\n",
    "'spam' * 3"
   ]
  },
  {
   "cell_type": "code",
   "execution_count": null,
   "id": "8707333e",
   "metadata": {},
   "outputs": [],
   "source": [
    "Given varaibles are strings and '+' operator concatenates both the strings.\n",
    "\n",
    "'spam'+ 'spamspam' = 'spamspamspam'\n",
    "\n",
    "Given strings are  multiplied by 3, '*' operator on strings repeats the strings for certain number of times.\n",
    "\n",
    "'spam' * 3 = 'spamspamspam'"
   ]
  },
  {
   "cell_type": "markdown",
   "id": "5907d2dc",
   "metadata": {},
   "source": [
    "8. Why is eggs a valid variable name while 100 is invalid?"
   ]
  },
  {
   "cell_type": "code",
   "execution_count": null,
   "id": "98a46b40",
   "metadata": {},
   "outputs": [],
   "source": [
    "    eggs is valid variable because it starts with alphabet.\n",
    "\n",
    "    100 is invalid variable because it is starting with number.\n",
    "\n",
    "    Variables generally starts only with alphabet letters or '_' (underscore). Variable convention doesn't start with \n",
    "    numbers, but subsequently variable can contain a number after first characher of variable."
   ]
  },
  {
   "cell_type": "markdown",
   "id": "bcee4bfb",
   "metadata": {},
   "source": [
    "9. What three functions can be used to get the integer, floating-point number, or string version of a value?"
   ]
  },
  {
   "cell_type": "code",
   "execution_count": null,
   "id": "66ec50dc",
   "metadata": {},
   "outputs": [],
   "source": [
    "Three functions are:\n",
    "    1. int() - This function converts a value to an integer.\n",
    "    2. float() - This function converts a value to a floating-point.\n",
    "    3. str() - This function converts a value to a string"
   ]
  },
  {
   "cell_type": "markdown",
   "id": "1147899a",
   "metadata": {},
   "source": [
    "10. Why does this expression cause an error? How can you fix it?\n",
    "'I have eaten' + 99 + 'burritos.'"
   ]
  },
  {
   "cell_type": "code",
   "execution_count": null,
   "id": "07588596",
   "metadata": {},
   "outputs": [],
   "source": [
    "Given expression 'I have eaten' + 99 + 'burritos.' is trying to concatenate different data types integer and string. \n",
    "    Concatenation only applied on same data types.\n",
    "\n",
    "To correct the expression the integer datatype is converted to string datatype using str() function.\n",
    "\n",
    "'I have eaten ' + str(99) + ' burritos.'"
   ]
  }
 ],
 "metadata": {
  "kernelspec": {
   "display_name": "Python 3 (ipykernel)",
   "language": "python",
   "name": "python3"
  },
  "language_info": {
   "codemirror_mode": {
    "name": "ipython",
    "version": 3
   },
   "file_extension": ".py",
   "mimetype": "text/x-python",
   "name": "python",
   "nbconvert_exporter": "python",
   "pygments_lexer": "ipython3",
   "version": "3.9.13"
  }
 },
 "nbformat": 4,
 "nbformat_minor": 5
}
