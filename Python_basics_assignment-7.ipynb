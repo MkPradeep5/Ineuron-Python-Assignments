{
 "cells": [
  {
   "cell_type": "markdown",
   "id": "e8725e7d",
   "metadata": {},
   "source": [
    "1. Create two int type variables, apply addition, subtraction, division and multiplications and store the results in variables. Then print the data in the following format by calling the variables:\n",
    "First variable is __ & second variable is __.\n",
    "Addition: __ + __ = __\n",
    "Subtraction: __ - __ = __\n",
    "Multiplication: __ * __ = __\n",
    "Division: __ / __ = __"
   ]
  },
  {
   "cell_type": "code",
   "execution_count": 7,
   "id": "a6646c93",
   "metadata": {},
   "outputs": [
    {
     "name": "stdout",
     "output_type": "stream",
     "text": [
      "First variable is 20 & second variable is 10\n",
      "Addition: 20 + 10 = 30\n",
      "Subtraction: 20 - 10 = 10\n",
      "Mutlipication: 20 * 10 = 200\n",
      "Division: 20 / 10 = 2.0\n"
     ]
    }
   ],
   "source": [
    "a = 20\n",
    "b = 10\n",
    "addition = a+b\n",
    "subtraction =a-b\n",
    "mutlipication=a*b\n",
    "divison=a/b\n",
    "print(f\"First variable is {a} & second variable is {b}\")\n",
    "print(f\"Addition: {a} + {b} = {addition}\")\n",
    "print(f\"Subtraction: {a} - {b} = {subtraction}\")\n",
    "print(f\"Mutlipication: {a} * {b} = {mutlipication}\")\n",
    "print(f\"Division: {a} / {b} = {divison}\")"
   ]
  },
  {
   "cell_type": "markdown",
   "id": "3d6ba792",
   "metadata": {},
   "source": [
    "2. What is the difference between the following operators:\n",
    "(i) ‘/’ & ‘//’\n",
    "(ii) ‘**’ & ‘^’"
   ]
  },
  {
   "cell_type": "code",
   "execution_count": null,
   "id": "e5d2ea82",
   "metadata": {},
   "outputs": [],
   "source": [
    "(i) ‘/’ & ‘//’ -\n",
    "'/' - is divion operator (10/5 = 2.0)\n",
    "'//' - is modules operator (gives remainder)(10//3 = 1)"
   ]
  },
  {
   "cell_type": "code",
   "execution_count": null,
   "id": "a3f33a52",
   "metadata": {},
   "outputs": [],
   "source": [
    "(ii) ‘**’ & ‘^’ - \n",
    "** - is power (3**2 = 9)\n",
    "\n",
    "\"^\" - is XOR operator (Bitwise operator) \n",
    "         Xor on two integers resulting bit will be set to 1 if the bits being compared are different;\n",
    "            otherwise, it will be set to 0."
   ]
  },
  {
   "cell_type": "markdown",
   "id": "20e5db15",
   "metadata": {},
   "source": [
    "3. List the logical operators."
   ]
  },
  {
   "cell_type": "code",
   "execution_count": null,
   "id": "df8e4cde",
   "metadata": {},
   "outputs": [],
   "source": [
    "AND, OR, Not are logical operators."
   ]
  },
  {
   "cell_type": "markdown",
   "id": "37ec2d9e",
   "metadata": {},
   "source": [
    "4. Explain right shift operator and left shift operator with examples."
   ]
  },
  {
   "cell_type": "code",
   "execution_count": null,
   "id": "6da43fd4",
   "metadata": {},
   "outputs": [],
   "source": [
    "Right Shift Operator (>>):\n",
    "    The right shift operator moves the bits of a number to the right by a specified number of positions"
   ]
  },
  {
   "cell_type": "code",
   "execution_count": 24,
   "id": "18ee18c9",
   "metadata": {},
   "outputs": [
    {
     "name": "stdout",
     "output_type": "stream",
     "text": [
      "2\n"
     ]
    }
   ],
   "source": [
    "num = 10\n",
    "result = num >> 2  # Shifting bits of 10 (binary 1010) two positions to the right\n",
    "print(result)  # Output: 2 (binary 0010)"
   ]
  },
  {
   "cell_type": "code",
   "execution_count": null,
   "id": "7d9c607d",
   "metadata": {},
   "outputs": [],
   "source": [
    "Left Shift Operator (<<):\n",
    "    The left shift operator moves the bits of a number to the left by a specified number of positions. "
   ]
  },
  {
   "cell_type": "code",
   "execution_count": null,
   "id": "e5e0e224",
   "metadata": {},
   "outputs": [],
   "source": [
    "num = 3\n",
    "result = num << 3  # Shifting bits of 3 (binary 0011) three positions to the left\n",
    "print(result)  # Output: 24 (binary 11000)\n"
   ]
  },
  {
   "cell_type": "markdown",
   "id": "dea82f30",
   "metadata": {},
   "source": [
    "5. Create a list containing int type data of length 15. Then write a code to check if 10 is present in the list or not."
   ]
  },
  {
   "cell_type": "code",
   "execution_count": 2,
   "id": "35c35bdd",
   "metadata": {},
   "outputs": [
    {
     "name": "stdout",
     "output_type": "stream",
     "text": [
      "10 is present in the list\n"
     ]
    }
   ],
   "source": [
    "my_list = [1,2,4,56,23,45,12,44,23,78,12,6,24,10,12]\n",
    "if 10 in my_list:\n",
    "    print(\"10 is present in the list\")\n",
    "else:\n",
    "    print(\"10 is not present in the list\")"
   ]
  }
 ],
 "metadata": {
  "kernelspec": {
   "display_name": "Python 3 (ipykernel)",
   "language": "python",
   "name": "python3"
  },
  "language_info": {
   "codemirror_mode": {
    "name": "ipython",
    "version": 3
   },
   "file_extension": ".py",
   "mimetype": "text/x-python",
   "name": "python",
   "nbconvert_exporter": "python",
   "pygments_lexer": "ipython3",
   "version": "3.9.13"
  }
 },
 "nbformat": 4,
 "nbformat_minor": 5
}
